{
 "cells": [
  {
   "cell_type": "markdown",
   "metadata": {},
   "source": [
    "# Energy Utility and Balancing Authority\n",
    "\n",
    "This notebook contains some analysis on the energy utility that operates in Wyandotte County, as well as the balancing authority."
   ]
  },
  {
   "cell_type": "code",
   "execution_count": 1,
   "metadata": {},
   "outputs": [],
   "source": [
    "import geopandas as gpd\n",
    "import numpy as np\n",
    "import pandas as pd\n",
    "import matplotlib.pyplot as plt\n",
    "import census\n",
    "from us import states\n",
    "from pathlib import Path\n",
    "\n",
    "from gridstatus import EIA"
   ]
  },
  {
   "cell_type": "code",
   "execution_count": 2,
   "metadata": {},
   "outputs": [],
   "source": [
    "eia = EIA()"
   ]
  },
  {
   "cell_type": "markdown",
   "metadata": {},
   "source": [
    "## Electric Service Territories\n",
    "\n",
    "Data about the electric service territories from the Homeland Infrastructure Foundation Level Database (HIFLD) is available [here](https://atlas.eia.gov/datasets/f4cd55044b924fed9bc8b64022966097/explore)."
   ]
  },
  {
   "cell_type": "code",
   "execution_count": 3,
   "metadata": {},
   "outputs": [],
   "source": [
    "eia_service_path = Path(\"../../spatial-data/Electric_Retail_Service_Territories/Electric_Retail_Service_Territories.shp\")"
   ]
  },
  {
   "cell_type": "code",
   "execution_count": 48,
   "metadata": {},
   "outputs": [
    {
     "data": {
      "text/html": [
       "<div>\n",
       "<style scoped>\n",
       "    .dataframe tbody tr th:only-of-type {\n",
       "        vertical-align: middle;\n",
       "    }\n",
       "\n",
       "    .dataframe tbody tr th {\n",
       "        vertical-align: top;\n",
       "    }\n",
       "\n",
       "    .dataframe thead th {\n",
       "        text-align: right;\n",
       "    }\n",
       "</style>\n",
       "<table border=\"1\" class=\"dataframe\">\n",
       "  <thead>\n",
       "    <tr style=\"text-align: right;\">\n",
       "      <th></th>\n",
       "      <th>OBJECTID</th>\n",
       "      <th>ID</th>\n",
       "      <th>NAME</th>\n",
       "      <th>ADDRESS</th>\n",
       "      <th>CITY</th>\n",
       "      <th>STATE</th>\n",
       "      <th>ZIP</th>\n",
       "      <th>TELEPHONE</th>\n",
       "      <th>TYPE</th>\n",
       "      <th>COUNTRY</th>\n",
       "      <th>...</th>\n",
       "      <th>NET_EX</th>\n",
       "      <th>RETAIL_MWH</th>\n",
       "      <th>WSALE_MWH</th>\n",
       "      <th>TOTAL_MWH</th>\n",
       "      <th>TRANS_MWH</th>\n",
       "      <th>CUSTOMERS</th>\n",
       "      <th>YEAR</th>\n",
       "      <th>Shape__Are</th>\n",
       "      <th>Shape__Len</th>\n",
       "      <th>geometry</th>\n",
       "    </tr>\n",
       "  </thead>\n",
       "  <tbody>\n",
       "    <tr>\n",
       "      <th>0</th>\n",
       "      <td>1</td>\n",
       "      <td>1000</td>\n",
       "      <td>CITY OF AUGUSTA - (AR)</td>\n",
       "      <td>NOT AVAILABLE</td>\n",
       "      <td>NOT AVAILABLE</td>\n",
       "      <td>AR</td>\n",
       "      <td>NOT AVAILABLE</td>\n",
       "      <td>NOT AVAILABLE</td>\n",
       "      <td>MUNICIPAL</td>\n",
       "      <td>USA</td>\n",
       "      <td>...</td>\n",
       "      <td>-999999</td>\n",
       "      <td>-999999</td>\n",
       "      <td>-999999</td>\n",
       "      <td>-999999</td>\n",
       "      <td>-999999</td>\n",
       "      <td>916</td>\n",
       "      <td>2020</td>\n",
       "      <td>0.152271</td>\n",
       "      <td>2.625553</td>\n",
       "      <td>POLYGON ((-91.34713 35.43899, -91.34711 35.439...</td>\n",
       "    </tr>\n",
       "    <tr>\n",
       "      <th>1</th>\n",
       "      <td>2</td>\n",
       "      <td>10000</td>\n",
       "      <td>EVERGY METRO</td>\n",
       "      <td>1200 MAIN STREET</td>\n",
       "      <td>KANSAS CITY</td>\n",
       "      <td>KS</td>\n",
       "      <td>64105</td>\n",
       "      <td>NOT AVAILABLE</td>\n",
       "      <td>INVESTOR OWNED</td>\n",
       "      <td>USA</td>\n",
       "      <td>...</td>\n",
       "      <td>0</td>\n",
       "      <td>14223892</td>\n",
       "      <td>5957441</td>\n",
       "      <td>20536356</td>\n",
       "      <td>0</td>\n",
       "      <td>562180</td>\n",
       "      <td>2020</td>\n",
       "      <td>0.525845</td>\n",
       "      <td>10.131485</td>\n",
       "      <td>MULTIPOLYGON (((-94.66607 38.27027, -94.66941 ...</td>\n",
       "    </tr>\n",
       "  </tbody>\n",
       "</table>\n",
       "<p>2 rows × 37 columns</p>\n",
       "</div>"
      ],
      "text/plain": [
       "   OBJECTID     ID                    NAME           ADDRESS           CITY  \\\n",
       "0         1   1000  CITY OF AUGUSTA - (AR)     NOT AVAILABLE  NOT AVAILABLE   \n",
       "1         2  10000            EVERGY METRO  1200 MAIN STREET    KANSAS CITY   \n",
       "\n",
       "  STATE            ZIP      TELEPHONE            TYPE COUNTRY  ...  NET_EX  \\\n",
       "0    AR  NOT AVAILABLE  NOT AVAILABLE       MUNICIPAL     USA  ... -999999   \n",
       "1    KS          64105  NOT AVAILABLE  INVESTOR OWNED     USA  ...       0   \n",
       "\n",
       "  RETAIL_MWH WSALE_MWH TOTAL_MWH TRANS_MWH CUSTOMERS  YEAR Shape__Are  \\\n",
       "0    -999999   -999999   -999999   -999999       916  2020   0.152271   \n",
       "1   14223892   5957441  20536356         0    562180  2020   0.525845   \n",
       "\n",
       "  Shape__Len                                           geometry  \n",
       "0   2.625553  POLYGON ((-91.34713 35.43899, -91.34711 35.439...  \n",
       "1  10.131485  MULTIPOLYGON (((-94.66607 38.27027, -94.66941 ...  \n",
       "\n",
       "[2 rows x 37 columns]"
      ]
     },
     "execution_count": 48,
     "metadata": {},
     "output_type": "execute_result"
    }
   ],
   "source": [
    "service_gdf = gpd.read_file(eia_service_path)\n",
    "service_gdf.head(2)"
   ]
  },
  {
   "cell_type": "code",
   "execution_count": 50,
   "metadata": {},
   "outputs": [],
   "source": [
    "service_gdf = service_gdf.replace([-999999, 'NOT AVAILABLE'], np.nan)"
   ]
  },
  {
   "cell_type": "code",
   "execution_count": 5,
   "metadata": {},
   "outputs": [
    {
     "data": {
      "text/html": [
       "<div>\n",
       "<style scoped>\n",
       "    .dataframe tbody tr th:only-of-type {\n",
       "        vertical-align: middle;\n",
       "    }\n",
       "\n",
       "    .dataframe tbody tr th {\n",
       "        vertical-align: top;\n",
       "    }\n",
       "\n",
       "    .dataframe thead th {\n",
       "        text-align: right;\n",
       "    }\n",
       "</style>\n",
       "<table border=\"1\" class=\"dataframe\">\n",
       "  <thead>\n",
       "    <tr style=\"text-align: right;\">\n",
       "      <th></th>\n",
       "      <th>OBJECTID</th>\n",
       "      <th>ID</th>\n",
       "      <th>NAME</th>\n",
       "      <th>ADDRESS</th>\n",
       "      <th>CITY</th>\n",
       "      <th>STATE</th>\n",
       "      <th>ZIP</th>\n",
       "      <th>TELEPHONE</th>\n",
       "      <th>TYPE</th>\n",
       "      <th>COUNTRY</th>\n",
       "      <th>...</th>\n",
       "      <th>NET_EX</th>\n",
       "      <th>RETAIL_MWH</th>\n",
       "      <th>WSALE_MWH</th>\n",
       "      <th>TOTAL_MWH</th>\n",
       "      <th>TRANS_MWH</th>\n",
       "      <th>CUSTOMERS</th>\n",
       "      <th>YEAR</th>\n",
       "      <th>Shape__Are</th>\n",
       "      <th>Shape__Len</th>\n",
       "      <th>geometry</th>\n",
       "    </tr>\n",
       "  </thead>\n",
       "  <tbody>\n",
       "    <tr>\n",
       "      <th>1</th>\n",
       "      <td>2</td>\n",
       "      <td>10000</td>\n",
       "      <td>EVERGY METRO</td>\n",
       "      <td>1200 MAIN STREET</td>\n",
       "      <td>KANSAS CITY</td>\n",
       "      <td>KS</td>\n",
       "      <td>64105</td>\n",
       "      <td>NOT AVAILABLE</td>\n",
       "      <td>INVESTOR OWNED</td>\n",
       "      <td>USA</td>\n",
       "      <td>...</td>\n",
       "      <td>0</td>\n",
       "      <td>14223892</td>\n",
       "      <td>5957441</td>\n",
       "      <td>20536356</td>\n",
       "      <td>0</td>\n",
       "      <td>562180</td>\n",
       "      <td>2020</td>\n",
       "      <td>0.525845</td>\n",
       "      <td>10.131485</td>\n",
       "      <td>MULTIPOLYGON (((-94.66607 38.27027, -94.66941 ...</td>\n",
       "    </tr>\n",
       "    <tr>\n",
       "      <th>2</th>\n",
       "      <td>3</td>\n",
       "      <td>10005</td>\n",
       "      <td>EVERGY KANSAS SOUTH, INC</td>\n",
       "      <td>818 KANSAS AVENUE</td>\n",
       "      <td>TOPEKA</td>\n",
       "      <td>KS</td>\n",
       "      <td>66612</td>\n",
       "      <td>NOT AVAILABLE</td>\n",
       "      <td>INVESTOR OWNED</td>\n",
       "      <td>USA</td>\n",
       "      <td>...</td>\n",
       "      <td>0</td>\n",
       "      <td>9181326</td>\n",
       "      <td>1628176</td>\n",
       "      <td>10891290</td>\n",
       "      <td>0</td>\n",
       "      <td>334500</td>\n",
       "      <td>2020</td>\n",
       "      <td>3.937805</td>\n",
       "      <td>15.439905</td>\n",
       "      <td>POLYGON ((-95.50819 38.42458, -95.50818 38.415...</td>\n",
       "    </tr>\n",
       "  </tbody>\n",
       "</table>\n",
       "<p>2 rows × 37 columns</p>\n",
       "</div>"
      ],
      "text/plain": [
       "   OBJECTID     ID                      NAME            ADDRESS         CITY  \\\n",
       "1         2  10000              EVERGY METRO   1200 MAIN STREET  KANSAS CITY   \n",
       "2         3  10005  EVERGY KANSAS SOUTH, INC  818 KANSAS AVENUE       TOPEKA   \n",
       "\n",
       "  STATE    ZIP      TELEPHONE            TYPE COUNTRY  ... NET_EX RETAIL_MWH  \\\n",
       "1    KS  64105  NOT AVAILABLE  INVESTOR OWNED     USA  ...      0   14223892   \n",
       "2    KS  66612  NOT AVAILABLE  INVESTOR OWNED     USA  ...      0    9181326   \n",
       "\n",
       "  WSALE_MWH TOTAL_MWH TRANS_MWH CUSTOMERS  YEAR Shape__Are Shape__Len  \\\n",
       "1   5957441  20536356         0    562180  2020   0.525845  10.131485   \n",
       "2   1628176  10891290         0    334500  2020   3.937805  15.439905   \n",
       "\n",
       "                                            geometry  \n",
       "1  MULTIPOLYGON (((-94.66607 38.27027, -94.66941 ...  \n",
       "2  POLYGON ((-95.50819 38.42458, -95.50818 38.415...  \n",
       "\n",
       "[2 rows x 37 columns]"
      ]
     },
     "execution_count": 5,
     "metadata": {},
     "output_type": "execute_result"
    }
   ],
   "source": [
    "kansas_service = service_gdf[service_gdf['STATE'] == states.KS.abbr]\n",
    "kansas_service.head(2)"
   ]
  },
  {
   "cell_type": "code",
   "execution_count": 14,
   "metadata": {},
   "outputs": [],
   "source": [
    "kansas_city_service = kansas_service[kansas_service['CITY'] == \"KANSAS CITY\"]"
   ]
  },
  {
   "cell_type": "code",
   "execution_count": 21,
   "metadata": {},
   "outputs": [
    {
     "data": {
      "text/plain": [
       "Index(['OBJECTID', 'ID', 'NAME', 'ADDRESS', 'CITY', 'STATE', 'ZIP',\n",
       "       'TELEPHONE', 'TYPE', 'COUNTRY', 'NAICS_CODE', 'NAICS_DESC', 'SOURCE',\n",
       "       'SOURCEDATE', 'VAL_METHOD', 'VAL_DATE', 'WEBSITE', 'REGULATED',\n",
       "       'CNTRL_AREA', 'PLAN_AREA', 'HOLDING_CO', 'SUMMR_PEAK', 'WINTR_PEAK',\n",
       "       'SUMMER_CAP', 'WINTER_CAP', 'NET_GEN', 'PURCHASED', 'NET_EX',\n",
       "       'RETAIL_MWH', 'WSALE_MWH', 'TOTAL_MWH', 'TRANS_MWH', 'CUSTOMERS',\n",
       "       'YEAR', 'Shape__Are', 'Shape__Len', 'geometry'],\n",
       "      dtype='object')"
      ]
     },
     "execution_count": 21,
     "metadata": {},
     "output_type": "execute_result"
    }
   ],
   "source": [
    "kansas_city_service.columns"
   ]
  },
  {
   "cell_type": "code",
   "execution_count": 22,
   "metadata": {},
   "outputs": [
    {
     "data": {
      "text/plain": [
       "array(['EVERGY METRO', 'CITY OF KANSAS CITY - (KS)'], dtype=object)"
      ]
     },
     "execution_count": 22,
     "metadata": {},
     "output_type": "execute_result"
    }
   ],
   "source": [
    "kansas_city_service['NAME'].unique()"
   ]
  },
  {
   "cell_type": "markdown",
   "metadata": {},
   "source": [
    "## Map of Kansas"
   ]
  },
  {
   "cell_type": "code",
   "execution_count": 6,
   "metadata": {},
   "outputs": [
    {
     "data": {
      "text/plain": [
       "'https://www2.census.gov/geo/tiger/TIGER2010/TABBLOCK/2010/tl_2010_20_tabblock10.zip'"
      ]
     },
     "execution_count": 6,
     "metadata": {},
     "output_type": "execute_result"
    }
   ],
   "source": [
    "ks_url = states.KS.shapefile_urls()['block']\n",
    "ks_url"
   ]
  },
  {
   "cell_type": "code",
   "execution_count": 7,
   "metadata": {},
   "outputs": [
    {
     "name": "stdout",
     "output_type": "stream",
     "text": [
      "CPU times: total: 1min 11s\n",
      "Wall time: 1min 24s\n"
     ]
    },
    {
     "data": {
      "text/html": [
       "<div>\n",
       "<style scoped>\n",
       "    .dataframe tbody tr th:only-of-type {\n",
       "        vertical-align: middle;\n",
       "    }\n",
       "\n",
       "    .dataframe tbody tr th {\n",
       "        vertical-align: top;\n",
       "    }\n",
       "\n",
       "    .dataframe thead th {\n",
       "        text-align: right;\n",
       "    }\n",
       "</style>\n",
       "<table border=\"1\" class=\"dataframe\">\n",
       "  <thead>\n",
       "    <tr style=\"text-align: right;\">\n",
       "      <th></th>\n",
       "      <th>STATEFP10</th>\n",
       "      <th>COUNTYFP10</th>\n",
       "      <th>TRACTCE10</th>\n",
       "      <th>BLOCKCE10</th>\n",
       "      <th>GEOID10</th>\n",
       "      <th>NAME10</th>\n",
       "      <th>MTFCC10</th>\n",
       "      <th>UR10</th>\n",
       "      <th>UACE10</th>\n",
       "      <th>UATYP10</th>\n",
       "      <th>FUNCSTAT10</th>\n",
       "      <th>ALAND10</th>\n",
       "      <th>AWATER10</th>\n",
       "      <th>INTPTLAT10</th>\n",
       "      <th>INTPTLON10</th>\n",
       "      <th>geometry</th>\n",
       "    </tr>\n",
       "  </thead>\n",
       "  <tbody>\n",
       "    <tr>\n",
       "      <th>0</th>\n",
       "      <td>20</td>\n",
       "      <td>001</td>\n",
       "      <td>952700</td>\n",
       "      <td>1120</td>\n",
       "      <td>200019527001120</td>\n",
       "      <td>Block 1120</td>\n",
       "      <td>G5040</td>\n",
       "      <td>R</td>\n",
       "      <td>None</td>\n",
       "      <td>None</td>\n",
       "      <td>S</td>\n",
       "      <td>12967</td>\n",
       "      <td>0</td>\n",
       "      <td>+38.0175787</td>\n",
       "      <td>-095.4932808</td>\n",
       "      <td>POLYGON ((-95.49256 38.01705, -95.49282 38.017...</td>\n",
       "    </tr>\n",
       "    <tr>\n",
       "      <th>1</th>\n",
       "      <td>20</td>\n",
       "      <td>001</td>\n",
       "      <td>952700</td>\n",
       "      <td>1154</td>\n",
       "      <td>200019527001154</td>\n",
       "      <td>Block 1154</td>\n",
       "      <td>G5040</td>\n",
       "      <td>R</td>\n",
       "      <td>None</td>\n",
       "      <td>None</td>\n",
       "      <td>S</td>\n",
       "      <td>0</td>\n",
       "      <td>87078</td>\n",
       "      <td>+37.9789073</td>\n",
       "      <td>-095.4872498</td>\n",
       "      <td>POLYGON ((-95.51244 37.97727, -95.51247 37.977...</td>\n",
       "    </tr>\n",
       "  </tbody>\n",
       "</table>\n",
       "</div>"
      ],
      "text/plain": [
       "  STATEFP10 COUNTYFP10 TRACTCE10 BLOCKCE10          GEOID10      NAME10  \\\n",
       "0        20        001    952700      1120  200019527001120  Block 1120   \n",
       "1        20        001    952700      1154  200019527001154  Block 1154   \n",
       "\n",
       "  MTFCC10 UR10 UACE10 UATYP10 FUNCSTAT10  ALAND10  AWATER10   INTPTLAT10  \\\n",
       "0   G5040    R   None    None          S    12967         0  +38.0175787   \n",
       "1   G5040    R   None    None          S        0     87078  +37.9789073   \n",
       "\n",
       "     INTPTLON10                                           geometry  \n",
       "0  -095.4932808  POLYGON ((-95.49256 38.01705, -95.49282 38.017...  \n",
       "1  -095.4872498  POLYGON ((-95.51244 37.97727, -95.51247 37.977...  "
      ]
     },
     "execution_count": 7,
     "metadata": {},
     "output_type": "execute_result"
    }
   ],
   "source": [
    "%%time\n",
    "ks_blocks = gpd.read_file(ks_url)\n",
    "ks_blocks.head(2)"
   ]
  },
  {
   "cell_type": "code",
   "execution_count": 8,
   "metadata": {},
   "outputs": [
    {
     "data": {
      "text/plain": [
       "Index(['STATEFP10', 'COUNTYFP10', 'TRACTCE10', 'BLOCKCE10', 'GEOID10',\n",
       "       'NAME10', 'MTFCC10', 'UR10', 'UACE10', 'UATYP10', 'FUNCSTAT10',\n",
       "       'ALAND10', 'AWATER10', 'INTPTLAT10', 'INTPTLON10', 'geometry'],\n",
       "      dtype='object')"
      ]
     },
     "execution_count": 8,
     "metadata": {},
     "output_type": "execute_result"
    }
   ],
   "source": [
    "ks_blocks.columns"
   ]
  },
  {
   "cell_type": "markdown",
   "metadata": {},
   "source": [
    "### List of Counties in Kansas"
   ]
  },
  {
   "cell_type": "code",
   "execution_count": 9,
   "metadata": {},
   "outputs": [
    {
     "data": {
      "text/html": [
       "<div>\n",
       "<style scoped>\n",
       "    .dataframe tbody tr th:only-of-type {\n",
       "        vertical-align: middle;\n",
       "    }\n",
       "\n",
       "    .dataframe tbody tr th {\n",
       "        vertical-align: top;\n",
       "    }\n",
       "\n",
       "    .dataframe thead th {\n",
       "        text-align: right;\n",
       "    }\n",
       "</style>\n",
       "<table border=\"1\" class=\"dataframe\">\n",
       "  <thead>\n",
       "    <tr style=\"text-align: right;\">\n",
       "      <th></th>\n",
       "      <th>FIPS code[3]</th>\n",
       "      <th>County seat[4]</th>\n",
       "      <th>Est.[4]</th>\n",
       "      <th>Origin</th>\n",
       "      <th>Etymology[5]</th>\n",
       "      <th>County Code</th>\n",
       "      <th>Population (2023 Estimate)[6]</th>\n",
       "      <th>Area[4]</th>\n",
       "      <th>Map</th>\n",
       "    </tr>\n",
       "    <tr>\n",
       "      <th>County</th>\n",
       "      <th></th>\n",
       "      <th></th>\n",
       "      <th></th>\n",
       "      <th></th>\n",
       "      <th></th>\n",
       "      <th></th>\n",
       "      <th></th>\n",
       "      <th></th>\n",
       "      <th></th>\n",
       "    </tr>\n",
       "  </thead>\n",
       "  <tbody>\n",
       "    <tr>\n",
       "      <th>Allen County</th>\n",
       "      <td>1</td>\n",
       "      <td>Iola</td>\n",
       "      <td>1855</td>\n",
       "      <td>One of the original 36 counties</td>\n",
       "      <td>William Allen, U.S. Senator from Ohio and prom...</td>\n",
       "      <td>AL</td>\n",
       "      <td>12412</td>\n",
       "      <td>503 sq mi (1,303 km2)</td>\n",
       "      <td>NaN</td>\n",
       "    </tr>\n",
       "    <tr>\n",
       "      <th>Anderson County</th>\n",
       "      <td>3</td>\n",
       "      <td>Garnett</td>\n",
       "      <td>1855</td>\n",
       "      <td>One of the original 36 counties</td>\n",
       "      <td>Joseph C. Anderson, Kansas territorial legisla...</td>\n",
       "      <td>AN</td>\n",
       "      <td>7838</td>\n",
       "      <td>583 sq mi (1,510 km2)</td>\n",
       "      <td>NaN</td>\n",
       "    </tr>\n",
       "    <tr>\n",
       "      <th>Atchison County</th>\n",
       "      <td>5</td>\n",
       "      <td>Atchison</td>\n",
       "      <td>1855</td>\n",
       "      <td>One of the original 36 counties</td>\n",
       "      <td>David Rice Atchison, U.S. Senator from Missour...</td>\n",
       "      <td>AT</td>\n",
       "      <td>16016</td>\n",
       "      <td>432 sq mi (1,119 km2)</td>\n",
       "      <td>NaN</td>\n",
       "    </tr>\n",
       "    <tr>\n",
       "      <th>Barber County</th>\n",
       "      <td>7</td>\n",
       "      <td>Medicine Lodge</td>\n",
       "      <td>1867</td>\n",
       "      <td>From unorganized area</td>\n",
       "      <td>Thomas W. Barber, prominent Free-Stater killed...</td>\n",
       "      <td>BA</td>\n",
       "      <td>4071</td>\n",
       "      <td>1,134 sq mi (2,937 km2)</td>\n",
       "      <td>NaN</td>\n",
       "    </tr>\n",
       "    <tr>\n",
       "      <th>Barton County</th>\n",
       "      <td>9</td>\n",
       "      <td>Great Bend</td>\n",
       "      <td>1867</td>\n",
       "      <td>From unorganized area</td>\n",
       "      <td>Clara Barton, founder of the American Red Cross</td>\n",
       "      <td>BT</td>\n",
       "      <td>24899</td>\n",
       "      <td>894 sq mi (2,315 km2)</td>\n",
       "      <td>NaN</td>\n",
       "    </tr>\n",
       "    <tr>\n",
       "      <th>...</th>\n",
       "      <td>...</td>\n",
       "      <td>...</td>\n",
       "      <td>...</td>\n",
       "      <td>...</td>\n",
       "      <td>...</td>\n",
       "      <td>...</td>\n",
       "      <td>...</td>\n",
       "      <td>...</td>\n",
       "      <td>...</td>\n",
       "    </tr>\n",
       "    <tr>\n",
       "      <th>Washington County</th>\n",
       "      <td>201</td>\n",
       "      <td>Washington</td>\n",
       "      <td>1857</td>\n",
       "      <td>From unorganized area</td>\n",
       "      <td>George Washington, first U.S. President and fo...</td>\n",
       "      <td>WS</td>\n",
       "      <td>5504</td>\n",
       "      <td>898 sq mi (2,326 km2)</td>\n",
       "      <td>NaN</td>\n",
       "    </tr>\n",
       "    <tr>\n",
       "      <th>Wichita County</th>\n",
       "      <td>203</td>\n",
       "      <td>Leoti</td>\n",
       "      <td>1873</td>\n",
       "      <td>From unorganized area</td>\n",
       "      <td>Wichita Native Americans, who lived in the area</td>\n",
       "      <td>WH</td>\n",
       "      <td>2082</td>\n",
       "      <td>719 sq mi (1,862 km2)</td>\n",
       "      <td>NaN</td>\n",
       "    </tr>\n",
       "    <tr>\n",
       "      <th>Wilson County</th>\n",
       "      <td>205</td>\n",
       "      <td>Fredonia</td>\n",
       "      <td>1855</td>\n",
       "      <td>One of the original 36 counties</td>\n",
       "      <td>Hiero T. Wilson, Union colonel and Civil War hero</td>\n",
       "      <td>WL</td>\n",
       "      <td>8382</td>\n",
       "      <td>574 sq mi (1,487 km2)</td>\n",
       "      <td>NaN</td>\n",
       "    </tr>\n",
       "    <tr>\n",
       "      <th>Woodson County</th>\n",
       "      <td>207</td>\n",
       "      <td>Yates Center</td>\n",
       "      <td>1855</td>\n",
       "      <td>One of the original 36 counties</td>\n",
       "      <td>Daniel Woodson, five time acting governor of K...</td>\n",
       "      <td>WO</td>\n",
       "      <td>3115</td>\n",
       "      <td>501 sq mi (1,298 km2)</td>\n",
       "      <td>NaN</td>\n",
       "    </tr>\n",
       "    <tr>\n",
       "      <th>Wyandotte County</th>\n",
       "      <td>209</td>\n",
       "      <td>Kansas City</td>\n",
       "      <td>1859</td>\n",
       "      <td>Formed from Leavenworth and Johnson Counties</td>\n",
       "      <td>Wyandotte Native Americans, who lived in the area</td>\n",
       "      <td>WY</td>\n",
       "      <td>165281</td>\n",
       "      <td>151 sq mi (391 km2)</td>\n",
       "      <td>NaN</td>\n",
       "    </tr>\n",
       "  </tbody>\n",
       "</table>\n",
       "<p>105 rows × 9 columns</p>\n",
       "</div>"
      ],
      "text/plain": [
       "                   FIPS code[3]  County seat[4]  Est.[4]  \\\n",
       "County                                                     \n",
       "Allen County                  1            Iola     1855   \n",
       "Anderson County               3         Garnett     1855   \n",
       "Atchison County               5        Atchison     1855   \n",
       "Barber County                 7  Medicine Lodge     1867   \n",
       "Barton County                 9      Great Bend     1867   \n",
       "...                         ...             ...      ...   \n",
       "Washington County           201      Washington     1857   \n",
       "Wichita County              203           Leoti     1873   \n",
       "Wilson County               205        Fredonia     1855   \n",
       "Woodson County              207    Yates Center     1855   \n",
       "Wyandotte County            209     Kansas City     1859   \n",
       "\n",
       "                                                         Origin  \\\n",
       "County                                                            \n",
       "Allen County                    One of the original 36 counties   \n",
       "Anderson County                 One of the original 36 counties   \n",
       "Atchison County                 One of the original 36 counties   \n",
       "Barber County                             From unorganized area   \n",
       "Barton County                             From unorganized area   \n",
       "...                                                         ...   \n",
       "Washington County                         From unorganized area   \n",
       "Wichita County                            From unorganized area   \n",
       "Wilson County                   One of the original 36 counties   \n",
       "Woodson County                  One of the original 36 counties   \n",
       "Wyandotte County   Formed from Leavenworth and Johnson Counties   \n",
       "\n",
       "                                                        Etymology[5]  \\\n",
       "County                                                                 \n",
       "Allen County       William Allen, U.S. Senator from Ohio and prom...   \n",
       "Anderson County    Joseph C. Anderson, Kansas territorial legisla...   \n",
       "Atchison County    David Rice Atchison, U.S. Senator from Missour...   \n",
       "Barber County      Thomas W. Barber, prominent Free-Stater killed...   \n",
       "Barton County        Clara Barton, founder of the American Red Cross   \n",
       "...                                                              ...   \n",
       "Washington County  George Washington, first U.S. President and fo...   \n",
       "Wichita County       Wichita Native Americans, who lived in the area   \n",
       "Wilson County      Hiero T. Wilson, Union colonel and Civil War hero   \n",
       "Woodson County     Daniel Woodson, five time acting governor of K...   \n",
       "Wyandotte County   Wyandotte Native Americans, who lived in the area   \n",
       "\n",
       "                  County Code  Population (2023 Estimate)[6]  \\\n",
       "County                                                         \n",
       "Allen County               AL                          12412   \n",
       "Anderson County            AN                           7838   \n",
       "Atchison County            AT                          16016   \n",
       "Barber County              BA                           4071   \n",
       "Barton County              BT                          24899   \n",
       "...                       ...                            ...   \n",
       "Washington County          WS                           5504   \n",
       "Wichita County             WH                           2082   \n",
       "Wilson County              WL                           8382   \n",
       "Woodson County             WO                           3115   \n",
       "Wyandotte County           WY                         165281   \n",
       "\n",
       "                                   Area[4]  Map  \n",
       "County                                           \n",
       "Allen County         503 sq mi (1,303 km2)  NaN  \n",
       "Anderson County      583 sq mi (1,510 km2)  NaN  \n",
       "Atchison County      432 sq mi (1,119 km2)  NaN  \n",
       "Barber County      1,134 sq mi (2,937 km2)  NaN  \n",
       "Barton County        894 sq mi (2,315 km2)  NaN  \n",
       "...                                    ...  ...  \n",
       "Washington County    898 sq mi (2,326 km2)  NaN  \n",
       "Wichita County       719 sq mi (1,862 km2)  NaN  \n",
       "Wilson County        574 sq mi (1,487 km2)  NaN  \n",
       "Woodson County       501 sq mi (1,298 km2)  NaN  \n",
       "Wyandotte County       151 sq mi (391 km2)  NaN  \n",
       "\n",
       "[105 rows x 9 columns]"
      ]
     },
     "execution_count": 9,
     "metadata": {},
     "output_type": "execute_result"
    }
   ],
   "source": [
    "ks_counties = pd.read_html(\"https://en.wikipedia.org/wiki/List_of_counties_in_Kansas\")[1]\n",
    "ks_counties.set_index('County', drop=True, inplace=True)\n",
    "ks_counties"
   ]
  },
  {
   "cell_type": "code",
   "execution_count": 10,
   "metadata": {},
   "outputs": [],
   "source": [
    "wyandotte_fp = ks_counties.loc['Wyandotte County', 'FIPS code[3]']"
   ]
  },
  {
   "cell_type": "code",
   "execution_count": 11,
   "metadata": {},
   "outputs": [
    {
     "data": {
      "text/html": [
       "<div>\n",
       "<style scoped>\n",
       "    .dataframe tbody tr th:only-of-type {\n",
       "        vertical-align: middle;\n",
       "    }\n",
       "\n",
       "    .dataframe tbody tr th {\n",
       "        vertical-align: top;\n",
       "    }\n",
       "\n",
       "    .dataframe thead th {\n",
       "        text-align: right;\n",
       "    }\n",
       "</style>\n",
       "<table border=\"1\" class=\"dataframe\">\n",
       "  <thead>\n",
       "    <tr style=\"text-align: right;\">\n",
       "      <th></th>\n",
       "      <th>STATEFP10</th>\n",
       "      <th>COUNTYFP10</th>\n",
       "      <th>TRACTCE10</th>\n",
       "      <th>BLOCKCE10</th>\n",
       "      <th>GEOID10</th>\n",
       "      <th>NAME10</th>\n",
       "      <th>MTFCC10</th>\n",
       "      <th>UR10</th>\n",
       "      <th>UACE10</th>\n",
       "      <th>UATYP10</th>\n",
       "      <th>FUNCSTAT10</th>\n",
       "      <th>ALAND10</th>\n",
       "      <th>AWATER10</th>\n",
       "      <th>INTPTLAT10</th>\n",
       "      <th>INTPTLON10</th>\n",
       "      <th>geometry</th>\n",
       "    </tr>\n",
       "  </thead>\n",
       "  <tbody>\n",
       "    <tr>\n",
       "      <th>233807</th>\n",
       "      <td>20</td>\n",
       "      <td>209</td>\n",
       "      <td>044601</td>\n",
       "      <td>2007</td>\n",
       "      <td>202090446012007</td>\n",
       "      <td>Block 2007</td>\n",
       "      <td>G5040</td>\n",
       "      <td>U</td>\n",
       "      <td>43912</td>\n",
       "      <td>U</td>\n",
       "      <td>S</td>\n",
       "      <td>572193</td>\n",
       "      <td>0</td>\n",
       "      <td>+39.1463190</td>\n",
       "      <td>-094.7385363</td>\n",
       "      <td>POLYGON ((-94.73801 39.14836, -94.73804 39.148...</td>\n",
       "    </tr>\n",
       "    <tr>\n",
       "      <th>233808</th>\n",
       "      <td>20</td>\n",
       "      <td>209</td>\n",
       "      <td>044500</td>\n",
       "      <td>1000</td>\n",
       "      <td>202090445001000</td>\n",
       "      <td>Block 1000</td>\n",
       "      <td>G5040</td>\n",
       "      <td>R</td>\n",
       "      <td>None</td>\n",
       "      <td>None</td>\n",
       "      <td>S</td>\n",
       "      <td>2291460</td>\n",
       "      <td>25588</td>\n",
       "      <td>+39.1546397</td>\n",
       "      <td>-094.6978087</td>\n",
       "      <td>POLYGON ((-94.69651 39.14382, -94.69651 39.143...</td>\n",
       "    </tr>\n",
       "  </tbody>\n",
       "</table>\n",
       "</div>"
      ],
      "text/plain": [
       "       STATEFP10 COUNTYFP10 TRACTCE10 BLOCKCE10          GEOID10      NAME10  \\\n",
       "233807        20        209    044601      2007  202090446012007  Block 2007   \n",
       "233808        20        209    044500      1000  202090445001000  Block 1000   \n",
       "\n",
       "       MTFCC10 UR10 UACE10 UATYP10 FUNCSTAT10  ALAND10  AWATER10   INTPTLAT10  \\\n",
       "233807   G5040    U  43912       U          S   572193         0  +39.1463190   \n",
       "233808   G5040    R   None    None          S  2291460     25588  +39.1546397   \n",
       "\n",
       "          INTPTLON10                                           geometry  \n",
       "233807  -094.7385363  POLYGON ((-94.73801 39.14836, -94.73804 39.148...  \n",
       "233808  -094.6978087  POLYGON ((-94.69651 39.14382, -94.69651 39.143...  "
      ]
     },
     "execution_count": 11,
     "metadata": {},
     "output_type": "execute_result"
    }
   ],
   "source": [
    "wyandotte_blocks = ks_blocks[ks_blocks['COUNTYFP10']==str(wyandotte_fp)]\n",
    "wyandotte_blocks.head(2)"
   ]
  },
  {
   "cell_type": "code",
   "execution_count": 12,
   "metadata": {},
   "outputs": [
    {
     "data": {
      "text/plain": [
       "<Axes: >"
      ]
     },
     "execution_count": 12,
     "metadata": {},
     "output_type": "execute_result"
    },
    {
     "data": {
      "image/png": "[encoded data removed]",
      "text/plain": [
       "<Figure size 640x480 with 1 Axes>"
      ]
     },
     "metadata": {},
     "output_type": "display_data"
    }
   ],
   "source": [
    "wyandotte_blocks.plot()"
   ]
  },
  {
   "cell_type": "markdown",
   "metadata": {},
   "source": [
    "# Overlay the Maps"
   ]
  },
  {
   "cell_type": "code",
   "execution_count": 18,
   "metadata": {},
   "outputs": [
    {
     "data": {
      "text/plain": [
       "<Geographic 2D CRS: EPSG:4269>\n",
       "Name: NAD83\n",
       "Axis Info [ellipsoidal]:\n",
       "- Lat[north]: Geodetic latitude (degree)\n",
       "- Lon[east]: Geodetic longitude (degree)\n",
       "Area of Use:\n",
       "- name: North America - onshore and offshore: Canada - Alberta; British Columbia; Manitoba; New Brunswick; Newfoundland and Labrador; Northwest Territories; Nova Scotia; Nunavut; Ontario; Prince Edward Island; Quebec; Saskatchewan; Yukon. Puerto Rico. United States (USA) - Alabama; Alaska; Arizona; Arkansas; California; Colorado; Connecticut; Delaware; Florida; Georgia; Hawaii; Idaho; Illinois; Indiana; Iowa; Kansas; Kentucky; Louisiana; Maine; Maryland; Massachusetts; Michigan; Minnesota; Mississippi; Missouri; Montana; Nebraska; Nevada; New Hampshire; New Jersey; New Mexico; New York; North Carolina; North Dakota; Ohio; Oklahoma; Oregon; Pennsylvania; Rhode Island; South Carolina; South Dakota; Tennessee; Texas; Utah; Vermont; Virginia; Washington; West Virginia; Wisconsin; Wyoming. US Virgin Islands. British Virgin Islands.\n",
       "- bounds: (167.65, 14.92, -40.73, 86.45)\n",
       "Datum: North American Datum 1983\n",
       "- Ellipsoid: GRS 1980\n",
       "- Prime Meridian: Greenwich"
      ]
     },
     "execution_count": 18,
     "metadata": {},
     "output_type": "execute_result"
    }
   ],
   "source": [
    "wyandotte_blocks.crs"
   ]
  },
  {
   "cell_type": "code",
   "execution_count": 19,
   "metadata": {},
   "outputs": [],
   "source": [
    "wyandotte_county = wyandotte_blocks.dissolve('COUNTYFP10')"
   ]
  },
  {
   "cell_type": "code",
   "execution_count": 32,
   "metadata": {},
   "outputs": [
    {
     "data": {
      "image/png": "[encoded data removed]",
      "text/plain": [
       "<Figure size 640x480 with 1 Axes>"
      ]
     },
     "metadata": {},
     "output_type": "display_data"
    }
   ],
   "source": [
    "fig, ax = plt.subplots()\n",
    "\n",
    "kansas_service.plot(ax=ax, alpha=0.5, column='NAME', categorical=True, cmap='tab10')\n",
    "wyandotte_county.to_crs(epsg=4326).plot(ax=ax, facecolor='None',edgecolor='r')\n",
    "\n",
    "ax.set_xlim(-95.5, -94.2)\n",
    "ax.set_ylim(38.7, 39.7)\n",
    "\n",
    "ax.set_axis_off()"
   ]
  },
  {
   "cell_type": "code",
   "execution_count": 34,
   "metadata": {},
   "outputs": [
    {
     "data": {
      "text/plain": [
       "Index(['OBJECTID', 'ID', 'NAME', 'ADDRESS', 'CITY', 'STATE', 'ZIP',\n",
       "       'TELEPHONE', 'TYPE', 'COUNTRY', 'NAICS_CODE', 'NAICS_DESC', 'SOURCE',\n",
       "       'SOURCEDATE', 'VAL_METHOD', 'VAL_DATE', 'WEBSITE', 'REGULATED',\n",
       "       'CNTRL_AREA', 'PLAN_AREA', 'HOLDING_CO', 'SUMMR_PEAK', 'WINTR_PEAK',\n",
       "       'SUMMER_CAP', 'WINTER_CAP', 'NET_GEN', 'PURCHASED', 'NET_EX',\n",
       "       'RETAIL_MWH', 'WSALE_MWH', 'TOTAL_MWH', 'TRANS_MWH', 'CUSTOMERS',\n",
       "       'YEAR', 'Shape__Are', 'Shape__Len', 'geometry'],\n",
       "      dtype='object')"
      ]
     },
     "execution_count": 34,
     "metadata": {},
     "output_type": "execute_result"
    }
   ],
   "source": [
    "kansas_city_service.columns"
   ]
  },
  {
   "cell_type": "code",
   "execution_count": 65,
   "metadata": {},
   "outputs": [
    {
     "data": {
      "text/html": [
       "<div>\n",
       "<style scoped>\n",
       "    .dataframe tbody tr th:only-of-type {\n",
       "        vertical-align: middle;\n",
       "    }\n",
       "\n",
       "    .dataframe tbody tr th {\n",
       "        vertical-align: top;\n",
       "    }\n",
       "\n",
       "    .dataframe thead th {\n",
       "        text-align: right;\n",
       "    }\n",
       "</style>\n",
       "<table border=\"1\" class=\"dataframe\">\n",
       "  <thead>\n",
       "    <tr style=\"text-align: right;\">\n",
       "      <th></th>\n",
       "      <th>NAME</th>\n",
       "      <th>CNTRL_AREA</th>\n",
       "      <th>PLAN_AREA</th>\n",
       "      <th>HOLDING_CO</th>\n",
       "      <th>CUSTOMERS</th>\n",
       "      <th>RETAIL_MWH</th>\n",
       "    </tr>\n",
       "  </thead>\n",
       "  <tbody>\n",
       "    <tr>\n",
       "      <th>1</th>\n",
       "      <td>EVERGY METRO</td>\n",
       "      <td>SOUTHWEST POWER POOL</td>\n",
       "      <td>NOT AVAILABLE</td>\n",
       "      <td>KANSAS CITY POWER &amp; LIGHT CO</td>\n",
       "      <td>562180</td>\n",
       "      <td>14223892</td>\n",
       "    </tr>\n",
       "    <tr>\n",
       "      <th>2906</th>\n",
       "      <td>CITY OF KANSAS CITY - (KS)</td>\n",
       "      <td>SOUTHWEST POWER POOL</td>\n",
       "      <td>KANSAS CITY BOARD OF PUBLIC UTILITIES &amp; WYANDO...</td>\n",
       "      <td>CITY OF KANSAS CITY - (KS)</td>\n",
       "      <td>66249</td>\n",
       "      <td>2065050</td>\n",
       "    </tr>\n",
       "  </tbody>\n",
       "</table>\n",
       "</div>"
      ],
      "text/plain": [
       "                            NAME            CNTRL_AREA  \\\n",
       "1                   EVERGY METRO  SOUTHWEST POWER POOL   \n",
       "2906  CITY OF KANSAS CITY - (KS)  SOUTHWEST POWER POOL   \n",
       "\n",
       "                                              PLAN_AREA  \\\n",
       "1                                         NOT AVAILABLE   \n",
       "2906  KANSAS CITY BOARD OF PUBLIC UTILITIES & WYANDO...   \n",
       "\n",
       "                        HOLDING_CO  CUSTOMERS  RETAIL_MWH  \n",
       "1     KANSAS CITY POWER & LIGHT CO     562180    14223892  \n",
       "2906    CITY OF KANSAS CITY - (KS)      66249     2065050  "
      ]
     },
     "execution_count": 65,
     "metadata": {},
     "output_type": "execute_result"
    }
   ],
   "source": [
    "kansas_city_service[[\"NAME\",'CNTRL_AREA','PLAN_AREA','HOLDING_CO','CUSTOMERS','RETAIL_MWH']]"
   ]
  },
  {
   "cell_type": "code",
   "execution_count": 67,
   "metadata": {},
   "outputs": [
    {
     "data": {
      "text/plain": [
       "<Axes: xlabel='CUSTOMERS', ylabel='TOTAL_MWH'>"
      ]
     },
     "execution_count": 67,
     "metadata": {},
     "output_type": "execute_result"
    },
    {
     "data": {
      "image/png": "[encoded data removed]",
      "text/plain": [
       "<Figure size 640x480 with 1 Axes>"
      ]
     },
     "metadata": {},
     "output_type": "display_data"
    }
   ],
   "source": [
    "fig, ax = plt.subplots()\n",
    "service_gdf.plot(ax=ax,kind='scatter',x='CUSTOMERS',y='TOTAL_MWH')\n",
    "# ax.set_xlim(0,5.6e6)\n",
    "# ax.set_ylim(0,1.4e8)"
   ]
  },
  {
   "cell_type": "code",
   "execution_count": 63,
   "metadata": {},
   "outputs": [
    {
     "data": {
      "text/plain": [
       "WINTER_CAP    94.686907\n",
       "SUMMER_CAP    94.117647\n",
       "REGULATED     91.081594\n",
       "WSALE_MWH     91.081594\n",
       "PLAN_AREA     83.301708\n",
       "TOTAL_MWH     78.368121\n",
       "TRANS_MWH     78.368121\n",
       "SUMMR_PEAK    78.368121\n",
       "PURCHASED     78.368121\n",
       "NET_EX        78.368121\n",
       "WINTR_PEAK    78.368121\n",
       "RETAIL_MWH    77.798861\n",
       "TELEPHONE     72.675522\n",
       "WEBSITE       66.982922\n",
       "ADDRESS       59.392789\n",
       "ZIP           59.013283\n",
       "CITY          54.648956\n",
       "CUSTOMERS     39.089184\n",
       "NET_GEN       15.180266\n",
       "YEAR           0.000000\n",
       "Shape__Are     0.000000\n",
       "Shape__Len     0.000000\n",
       "OBJECTID       0.000000\n",
       "CNTRL_AREA     0.000000\n",
       "HOLDING_CO     0.000000\n",
       "ID             0.000000\n",
       "VAL_DATE       0.000000\n",
       "VAL_METHOD     0.000000\n",
       "SOURCEDATE     0.000000\n",
       "SOURCE         0.000000\n",
       "NAICS_DESC     0.000000\n",
       "NAICS_CODE     0.000000\n",
       "COUNTRY        0.000000\n",
       "TYPE           0.000000\n",
       "STATE          0.000000\n",
       "NAME           0.000000\n",
       "geometry       0.000000\n",
       "dtype: float64"
      ]
     },
     "execution_count": 63,
     "metadata": {},
     "output_type": "execute_result"
    }
   ],
   "source": [
    "spp = service_gdf[service_gdf['CNTRL_AREA'] == 'SOUTHWEST POWER POOL']\n",
    "(spp.isnull().sum()/len(spp)*100).sort_values(ascending=False)"
   ]
  },
  {
   "cell_type": "code",
   "execution_count": 57,
   "metadata": {},
   "outputs": [
    {
     "data": {
      "text/plain": [
       "WINTER_CAP    90.573076\n",
       "SUMMER_CAP    90.403527\n",
       "WSALE_MWH     83.316378\n",
       "REGULATED     77.178705\n",
       "PLAN_AREA     71.346219\n",
       "TELEPHONE     65.445914\n",
       "WEBSITE       62.156663\n",
       "TRANS_MWH     59.681248\n",
       "NET_EX        59.681248\n",
       "PURCHASED     58.426585\n",
       "RETAIL_MWH    58.121397\n",
       "TOTAL_MWH     57.985758\n",
       "ADDRESS       57.612750\n",
       "ZIP           57.578840\n",
       "WINTR_PEAK    57.578840\n",
       "SUMMR_PEAK    57.544930\n",
       "CITY          54.662597\n",
       "CUSTOMERS     37.470329\n",
       "NET_GEN       24.957613\n",
       "CNTRL_AREA     3.323160\n",
       "YEAR           0.542557\n",
       "TYPE           0.135639\n",
       "Shape__Are     0.000000\n",
       "Shape__Len     0.000000\n",
       "OBJECTID       0.000000\n",
       "HOLDING_CO     0.000000\n",
       "ID             0.000000\n",
       "VAL_DATE       0.000000\n",
       "VAL_METHOD     0.000000\n",
       "SOURCEDATE     0.000000\n",
       "SOURCE         0.000000\n",
       "NAICS_DESC     0.000000\n",
       "NAICS_CODE     0.000000\n",
       "COUNTRY        0.000000\n",
       "STATE          0.000000\n",
       "NAME           0.000000\n",
       "geometry       0.000000\n",
       "dtype: float64"
      ]
     },
     "execution_count": 57,
     "metadata": {},
     "output_type": "execute_result"
    }
   ],
   "source": [
    "(service_gdf.isnull().sum()/len(service_gdf)*100).sort_values(ascending=False)"
   ]
  },
  {
   "cell_type": "code",
   "execution_count": null,
   "metadata": {},
   "outputs": [],
   "source": []
  }
 ],
 "metadata": {
  "kernelspec": {
   "display_name": "danger-season",
   "language": "python",
   "name": "python3"
  },
  "language_info": {
   "codemirror_mode": {
    "name": "ipython",
    "version": 3
   },
   "file_extension": ".py",
   "mimetype": "text/x-python",
   "name": "python",
   "nbconvert_exporter": "python",
   "pygments_lexer": "ipython3",
   "version": "3.10.13"
  }
 },
 "nbformat": 4,
 "nbformat_minor": 2
}
