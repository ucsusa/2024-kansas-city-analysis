{
 "cells": [
  {
   "cell_type": "code",
   "execution_count": 1,
   "metadata": {},
   "outputs": [],
   "source": [
    "import numpy as np\n",
    "import pandas as pd\n",
    "import pypsa\n",
    "import matplotlib.pyplot as plt\n",
    "from unyt import MWh, kWh"
   ]
  },
  {
   "cell_type": "markdown",
   "metadata": {},
   "source": [
    "## PyPSA Network"
   ]
  },
  {
   "cell_type": "code",
   "execution_count": 2,
   "metadata": {},
   "outputs": [],
   "source": [
    "n = pypsa.Network(name='Armourdale')\n",
    "\n",
    "N_days=365\n",
    "N_hours=24\n",
    "\n",
    "index = pd.date_range(start=\"2018-01-01\", \n",
    "                      periods=N_days*N_hours, \n",
    "                      freq='h')\n",
    "\n",
    "n.set_snapshots(index)"
   ]
  },
  {
   "cell_type": "markdown",
   "metadata": {},
   "source": [
    "Step 1: Add buses"
   ]
  },
  {
   "cell_type": "code",
   "execution_count": 3,
   "metadata": {},
   "outputs": [],
   "source": [
    "bus_name = 'Residential'\n",
    "n.add(class_name='Bus',\n",
    "      name=bus_name,\n",
    "      carrier='AC')"
   ]
  },
  {
   "cell_type": "markdown",
   "metadata": {},
   "source": [
    "Step 2: Add energy carriers"
   ]
  },
  {
   "cell_type": "code",
   "execution_count": 4,
   "metadata": {},
   "outputs": [],
   "source": [
    "n.add(class_name=\"Carrier\", name=\"grid\")\n",
    "n.add(class_name=\"Carrier\", name=\"solar\")\n",
    "n.add(class_name=\"Carrier\", name=\"battery\")\n",
    "n.add(class_name=\"Carrier\", name='net metering')"
   ]
  },
  {
   "cell_type": "markdown",
   "metadata": {},
   "source": [
    "Step 3: Add load"
   ]
  },
  {
   "cell_type": "code",
   "execution_count": 5,
   "metadata": {},
   "outputs": [],
   "source": [
    "load = pd.read_csv(\"../data/timeseries/residential_elec_load_rescaled.csv\", parse_dates=True, index_col='timestamp')"
   ]
  },
  {
   "cell_type": "code",
   "execution_count": 6,
   "metadata": {},
   "outputs": [],
   "source": [
    "load_resampled = load.loc['2018'].resample('h').mean().sum(axis=1)\n",
    "load_resampled = load_resampled / 1e3  # kW --> MW"
   ]
  },
  {
   "cell_type": "code",
   "execution_count": 7,
   "metadata": {},
   "outputs": [],
   "source": [
    "n.add(\n",
    "    class_name=\"Load\",\n",
    "    name=f\"Load {bus_name}\",\n",
    "    bus=bus_name,\n",
    "    p_set=load_resampled\n",
    ")"
   ]
  },
  {
   "cell_type": "markdown",
   "metadata": {},
   "source": [
    "Step 3: Add weather data"
   ]
  },
  {
   "cell_type": "code",
   "execution_count": 8,
   "metadata": {},
   "outputs": [
    {
     "data": {
      "text/html": [
       "<div>\n",
       "<style scoped>\n",
       "    .dataframe tbody tr th:only-of-type {\n",
       "        vertical-align: middle;\n",
       "    }\n",
       "\n",
       "    .dataframe tbody tr th {\n",
       "        vertical-align: top;\n",
       "    }\n",
       "\n",
       "    .dataframe thead th {\n",
       "        text-align: right;\n",
       "    }\n",
       "</style>\n",
       "<table border=\"1\" class=\"dataframe\">\n",
       "  <thead>\n",
       "    <tr style=\"text-align: right;\">\n",
       "      <th></th>\n",
       "      <th>date_time</th>\n",
       "      <th>temp_db</th>\n",
       "      <th>rel_humidity</th>\n",
       "      <th>wind_speed</th>\n",
       "      <th>wind_direction</th>\n",
       "      <th>ghi</th>\n",
       "      <th>dni</th>\n",
       "      <th>dhi</th>\n",
       "    </tr>\n",
       "  </thead>\n",
       "  <tbody>\n",
       "    <tr>\n",
       "      <th>2018-01-01 00:00:00</th>\n",
       "      <td>2005-01-01 01:00:00</td>\n",
       "      <td>8.0</td>\n",
       "      <td>61</td>\n",
       "      <td>5.7</td>\n",
       "      <td>80</td>\n",
       "      <td>0</td>\n",
       "      <td>0</td>\n",
       "      <td>0</td>\n",
       "    </tr>\n",
       "    <tr>\n",
       "      <th>2018-01-01 01:00:00</th>\n",
       "      <td>2005-01-01 02:00:00</td>\n",
       "      <td>8.0</td>\n",
       "      <td>57</td>\n",
       "      <td>5.1</td>\n",
       "      <td>90</td>\n",
       "      <td>0</td>\n",
       "      <td>0</td>\n",
       "      <td>0</td>\n",
       "    </tr>\n",
       "    <tr>\n",
       "      <th>2018-01-01 02:00:00</th>\n",
       "      <td>2005-01-01 03:00:00</td>\n",
       "      <td>8.0</td>\n",
       "      <td>57</td>\n",
       "      <td>5.1</td>\n",
       "      <td>90</td>\n",
       "      <td>0</td>\n",
       "      <td>0</td>\n",
       "      <td>0</td>\n",
       "    </tr>\n",
       "    <tr>\n",
       "      <th>2018-01-01 03:00:00</th>\n",
       "      <td>2005-01-01 04:00:00</td>\n",
       "      <td>7.0</td>\n",
       "      <td>56</td>\n",
       "      <td>6.2</td>\n",
       "      <td>80</td>\n",
       "      <td>0</td>\n",
       "      <td>0</td>\n",
       "      <td>0</td>\n",
       "    </tr>\n",
       "    <tr>\n",
       "      <th>2018-01-01 04:00:00</th>\n",
       "      <td>2005-01-01 05:00:00</td>\n",
       "      <td>7.0</td>\n",
       "      <td>56</td>\n",
       "      <td>5.1</td>\n",
       "      <td>90</td>\n",
       "      <td>0</td>\n",
       "      <td>0</td>\n",
       "      <td>0</td>\n",
       "    </tr>\n",
       "  </tbody>\n",
       "</table>\n",
       "</div>"
      ],
      "text/plain": [
       "                               date_time  temp_db  rel_humidity  wind_speed  \\\n",
       "2018-01-01 00:00:00  2005-01-01 01:00:00      8.0            61         5.7   \n",
       "2018-01-01 01:00:00  2005-01-01 02:00:00      8.0            57         5.1   \n",
       "2018-01-01 02:00:00  2005-01-01 03:00:00      8.0            57         5.1   \n",
       "2018-01-01 03:00:00  2005-01-01 04:00:00      7.0            56         6.2   \n",
       "2018-01-01 04:00:00  2005-01-01 05:00:00      7.0            56         5.1   \n",
       "\n",
       "                     wind_direction  ghi  dni  dhi  \n",
       "2018-01-01 00:00:00              80    0    0    0  \n",
       "2018-01-01 01:00:00              90    0    0    0  \n",
       "2018-01-01 02:00:00              90    0    0    0  \n",
       "2018-01-01 03:00:00              80    0    0    0  \n",
       "2018-01-01 04:00:00              90    0    0    0  "
      ]
     },
     "execution_count": 8,
     "metadata": {},
     "output_type": "execute_result"
    }
   ],
   "source": [
    "weather = pd.read_csv(\"../data/timeseries/weather_year.csv\", parse_dates=True, index_col=0)\n",
    "weather.head()"
   ]
  },
  {
   "cell_type": "code",
   "execution_count": 9,
   "metadata": {},
   "outputs": [],
   "source": [
    "# normalize GHI\n",
    "ghi = weather['ghi'] / weather['ghi'].max()"
   ]
  },
  {
   "cell_type": "markdown",
   "metadata": {},
   "source": [
    "Step 4: Upload cost data"
   ]
  },
  {
   "cell_type": "code",
   "execution_count": 10,
   "metadata": {},
   "outputs": [],
   "source": [
    "costs = pd.read_csv(\"../data/technology_costs.csv\", index_col='technology')"
   ]
  },
  {
   "cell_type": "code",
   "execution_count": 11,
   "metadata": {},
   "outputs": [
    {
     "data": {
      "text/html": [
       "<div>\n",
       "<style scoped>\n",
       "    .dataframe tbody tr th:only-of-type {\n",
       "        vertical-align: middle;\n",
       "    }\n",
       "\n",
       "    .dataframe tbody tr th {\n",
       "        vertical-align: top;\n",
       "    }\n",
       "\n",
       "    .dataframe thead th {\n",
       "        text-align: right;\n",
       "    }\n",
       "</style>\n",
       "<table border=\"1\" class=\"dataframe\">\n",
       "  <thead>\n",
       "    <tr style=\"text-align: right;\">\n",
       "      <th></th>\n",
       "      <th>Fixed O&amp;M</th>\n",
       "      <th>OCC</th>\n",
       "    </tr>\n",
       "    <tr>\n",
       "      <th>technology</th>\n",
       "      <th></th>\n",
       "      <th></th>\n",
       "    </tr>\n",
       "  </thead>\n",
       "  <tbody>\n",
       "    <tr>\n",
       "      <th>DistributedWind</th>\n",
       "      <td>35912.100000</td>\n",
       "      <td>5.678577e+06</td>\n",
       "    </tr>\n",
       "    <tr>\n",
       "      <th>ResPV</th>\n",
       "      <td>28108.825392</td>\n",
       "      <td>2.630889e+06</td>\n",
       "    </tr>\n",
       "    <tr>\n",
       "      <th>Residential Battery Storage</th>\n",
       "      <td>78943.789878</td>\n",
       "      <td>3.157752e+06</td>\n",
       "    </tr>\n",
       "  </tbody>\n",
       "</table>\n",
       "</div>"
      ],
      "text/plain": [
       "                                Fixed O&M           OCC\n",
       "technology                                             \n",
       "DistributedWind              35912.100000  5.678577e+06\n",
       "ResPV                        28108.825392  2.630889e+06\n",
       "Residential Battery Storage  78943.789878  3.157752e+06"
      ]
     },
     "execution_count": 11,
     "metadata": {},
     "output_type": "execute_result"
    }
   ],
   "source": [
    "costs *= 1e3  # convert /kW to /MW\n",
    "costs"
   ]
  },
  {
   "cell_type": "markdown",
   "metadata": {},
   "source": [
    "Step 5: Add generators to network"
   ]
  },
  {
   "cell_type": "code",
   "execution_count": 12,
   "metadata": {},
   "outputs": [],
   "source": [
    "def annuity(r, n):\n",
    "    return r / (1 - 1 / (1 + r)**n)"
   ]
  },
  {
   "cell_type": "code",
   "execution_count": 13,
   "metadata": {},
   "outputs": [
    {
     "data": {
      "text/plain": [
       "0.05541531489055132"
      ]
     },
     "execution_count": 13,
     "metadata": {},
     "output_type": "execute_result"
    }
   ],
   "source": [
    "annuity_adj = annuity(0.01, 20)\n",
    "annuity_adj"
   ]
  },
  {
   "cell_type": "code",
   "execution_count": 14,
   "metadata": {},
   "outputs": [
    {
     "name": "stdout",
     "output_type": "stream",
     "text": [
      "ResPV\n",
      "173900.3569535663\n",
      "Residential Battery Storage\n",
      "253931.58886784827\n"
     ]
    }
   ],
   "source": [
    "for generator in costs.index:\n",
    "    if generator == 'DistributedWind':\n",
    "        pass\n",
    "    else:\n",
    "        print(generator)\n",
    "        annualized_cost = costs.at[generator, 'OCC']*annuity_adj + costs.at[generator,'Fixed O&M']\n",
    "        print(annualized_cost)\n",
    "        \n",
    "        if generator=='ResPV':\n",
    "            n.add(class_name='Generator',\n",
    "                    name=generator,\n",
    "                    bus=bus_name,\n",
    "                    carrier=\"solar\",\n",
    "                    capital_cost=annualized_cost,  # $/kW\n",
    "                    p_min_pu=ghi,\n",
    "                    p_max_pu=ghi,\n",
    "                    p_nom_extendable=True,\n",
    "                    p_nom_max = 2.807,\n",
    "                    )\n",
    "        elif generator=='Residential Battery Storage':\n",
    "            pass\n",
    "            # n.add(class_name=\"StorageUnit\",\n",
    "            #         name=generator,\n",
    "            #         bus=bus_name,\n",
    "            #         carrier=\"battery\",\n",
    "            #         capital_cost=annualized_cost,  # $/kW\n",
    "            #         p_nom_extendable=True,\n",
    "            #         max_hours=2.5,\n",
    "            #         cyclic_state_of_charge=False,\n",
    "            #         )\n",
    "        \n",
    "        "
   ]
  },
  {
   "cell_type": "markdown",
   "metadata": {},
   "source": [
    "Add a \"net metering\" technology to capture the excess energy."
   ]
  },
  {
   "cell_type": "code",
   "execution_count": 15,
   "metadata": {},
   "outputs": [],
   "source": [
    "retail_price = 112.9  # $/MWh"
   ]
  },
  {
   "cell_type": "code",
   "execution_count": 16,
   "metadata": {},
   "outputs": [],
   "source": [
    "n.add(class_name=\"Generator\",\n",
    "      name=f\"Net metering {bus_name}\",\n",
    "      bus=bus_name,\n",
    "      carrier='net metering',\n",
    "      p_min_pu=-1,\n",
    "      p_max_pu=0.0,\n",
    "      marginal_cost=retail_price*0.0,\n",
    "      capital_cost=0.0,\n",
    "      p_nom_extendable=True)"
   ]
  },
  {
   "cell_type": "code",
   "execution_count": 17,
   "metadata": {},
   "outputs": [],
   "source": [
    "n.add(class_name='Generator',\n",
    "      name='Evergy Import',\n",
    "      bus=bus_name,\n",
    "      carrier='grid',\n",
    "      capital_cost=0,\n",
    "      marginal_cost=retail_price,\n",
    "      p_nom_extendable=True,\n",
    "      # p_nom_max=1.3315\n",
    "      )"
   ]
  },
  {
   "cell_type": "code",
   "execution_count": 18,
   "metadata": {},
   "outputs": [
    {
     "data": {
      "text/html": [
       "<div>\n",
       "<style scoped>\n",
       "    .dataframe tbody tr th:only-of-type {\n",
       "        vertical-align: middle;\n",
       "    }\n",
       "\n",
       "    .dataframe tbody tr th {\n",
       "        vertical-align: top;\n",
       "    }\n",
       "\n",
       "    .dataframe thead th {\n",
       "        text-align: right;\n",
       "    }\n",
       "</style>\n",
       "<table border=\"1\" class=\"dataframe\">\n",
       "  <thead>\n",
       "    <tr style=\"text-align: right;\">\n",
       "      <th>attribute</th>\n",
       "      <th>bus</th>\n",
       "      <th>control</th>\n",
       "      <th>type</th>\n",
       "      <th>p_nom</th>\n",
       "      <th>p_nom_mod</th>\n",
       "      <th>p_nom_extendable</th>\n",
       "      <th>p_nom_min</th>\n",
       "      <th>p_nom_max</th>\n",
       "      <th>p_min_pu</th>\n",
       "      <th>p_max_pu</th>\n",
       "      <th>...</th>\n",
       "      <th>min_up_time</th>\n",
       "      <th>min_down_time</th>\n",
       "      <th>up_time_before</th>\n",
       "      <th>down_time_before</th>\n",
       "      <th>ramp_limit_up</th>\n",
       "      <th>ramp_limit_down</th>\n",
       "      <th>ramp_limit_start_up</th>\n",
       "      <th>ramp_limit_shut_down</th>\n",
       "      <th>weight</th>\n",
       "      <th>p_nom_opt</th>\n",
       "    </tr>\n",
       "    <tr>\n",
       "      <th>Generator</th>\n",
       "      <th></th>\n",
       "      <th></th>\n",
       "      <th></th>\n",
       "      <th></th>\n",
       "      <th></th>\n",
       "      <th></th>\n",
       "      <th></th>\n",
       "      <th></th>\n",
       "      <th></th>\n",
       "      <th></th>\n",
       "      <th></th>\n",
       "      <th></th>\n",
       "      <th></th>\n",
       "      <th></th>\n",
       "      <th></th>\n",
       "      <th></th>\n",
       "      <th></th>\n",
       "      <th></th>\n",
       "      <th></th>\n",
       "      <th></th>\n",
       "      <th></th>\n",
       "    </tr>\n",
       "  </thead>\n",
       "  <tbody>\n",
       "    <tr>\n",
       "      <th>ResPV</th>\n",
       "      <td>Residential</td>\n",
       "      <td>PQ</td>\n",
       "      <td></td>\n",
       "      <td>0.0</td>\n",
       "      <td>0.0</td>\n",
       "      <td>True</td>\n",
       "      <td>0.0</td>\n",
       "      <td>2.807</td>\n",
       "      <td>0.0</td>\n",
       "      <td>1.0</td>\n",
       "      <td>...</td>\n",
       "      <td>0</td>\n",
       "      <td>0</td>\n",
       "      <td>1</td>\n",
       "      <td>0</td>\n",
       "      <td>NaN</td>\n",
       "      <td>NaN</td>\n",
       "      <td>1.0</td>\n",
       "      <td>1.0</td>\n",
       "      <td>1.0</td>\n",
       "      <td>0.0</td>\n",
       "    </tr>\n",
       "    <tr>\n",
       "      <th>Net metering Residential</th>\n",
       "      <td>Residential</td>\n",
       "      <td>PQ</td>\n",
       "      <td></td>\n",
       "      <td>0.0</td>\n",
       "      <td>0.0</td>\n",
       "      <td>True</td>\n",
       "      <td>0.0</td>\n",
       "      <td>inf</td>\n",
       "      <td>-1.0</td>\n",
       "      <td>0.0</td>\n",
       "      <td>...</td>\n",
       "      <td>0</td>\n",
       "      <td>0</td>\n",
       "      <td>1</td>\n",
       "      <td>0</td>\n",
       "      <td>NaN</td>\n",
       "      <td>NaN</td>\n",
       "      <td>1.0</td>\n",
       "      <td>1.0</td>\n",
       "      <td>1.0</td>\n",
       "      <td>0.0</td>\n",
       "    </tr>\n",
       "    <tr>\n",
       "      <th>Evergy Import</th>\n",
       "      <td>Residential</td>\n",
       "      <td>PQ</td>\n",
       "      <td></td>\n",
       "      <td>0.0</td>\n",
       "      <td>0.0</td>\n",
       "      <td>True</td>\n",
       "      <td>0.0</td>\n",
       "      <td>inf</td>\n",
       "      <td>0.0</td>\n",
       "      <td>1.0</td>\n",
       "      <td>...</td>\n",
       "      <td>0</td>\n",
       "      <td>0</td>\n",
       "      <td>1</td>\n",
       "      <td>0</td>\n",
       "      <td>NaN</td>\n",
       "      <td>NaN</td>\n",
       "      <td>1.0</td>\n",
       "      <td>1.0</td>\n",
       "      <td>1.0</td>\n",
       "      <td>0.0</td>\n",
       "    </tr>\n",
       "  </tbody>\n",
       "</table>\n",
       "<p>3 rows × 34 columns</p>\n",
       "</div>"
      ],
      "text/plain": [
       "attribute                         bus control type  p_nom  p_nom_mod  \\\n",
       "Generator                                                              \n",
       "ResPV                     Residential      PQ         0.0        0.0   \n",
       "Net metering Residential  Residential      PQ         0.0        0.0   \n",
       "Evergy Import             Residential      PQ         0.0        0.0   \n",
       "\n",
       "attribute                 p_nom_extendable  p_nom_min  p_nom_max  p_min_pu  \\\n",
       "Generator                                                                    \n",
       "ResPV                                 True        0.0      2.807       0.0   \n",
       "Net metering Residential              True        0.0        inf      -1.0   \n",
       "Evergy Import                         True        0.0        inf       0.0   \n",
       "\n",
       "attribute                 p_max_pu  ...  min_up_time  min_down_time  \\\n",
       "Generator                           ...                               \n",
       "ResPV                          1.0  ...            0              0   \n",
       "Net metering Residential       0.0  ...            0              0   \n",
       "Evergy Import                  1.0  ...            0              0   \n",
       "\n",
       "attribute                 up_time_before down_time_before  ramp_limit_up  \\\n",
       "Generator                                                                  \n",
       "ResPV                                  1                0            NaN   \n",
       "Net metering Residential               1                0            NaN   \n",
       "Evergy Import                          1                0            NaN   \n",
       "\n",
       "attribute                 ramp_limit_down  ramp_limit_start_up  \\\n",
       "Generator                                                        \n",
       "ResPV                                 NaN                  1.0   \n",
       "Net metering Residential              NaN                  1.0   \n",
       "Evergy Import                         NaN                  1.0   \n",
       "\n",
       "attribute                 ramp_limit_shut_down  weight  p_nom_opt  \n",
       "Generator                                                          \n",
       "ResPV                                      1.0     1.0        0.0  \n",
       "Net metering Residential                   1.0     1.0        0.0  \n",
       "Evergy Import                              1.0     1.0        0.0  \n",
       "\n",
       "[3 rows x 34 columns]"
      ]
     },
     "execution_count": 18,
     "metadata": {},
     "output_type": "execute_result"
    }
   ],
   "source": [
    "n.generators"
   ]
  },
  {
   "cell_type": "markdown",
   "metadata": {},
   "source": [
    "## Model Version: Baseline\n",
    "\n",
    "At this moment, the model\n",
    "\n",
    "* uses the sticker price for rooftop solar from NREL's ATB\n",
    "* does NOT pay for net metering\n",
    "* does NOT include residential storage"
   ]
  },
  {
   "cell_type": "markdown",
   "metadata": {},
   "source": [
    "Step 6: Run the model"
   ]
  },
  {
   "cell_type": "code",
   "execution_count": 19,
   "metadata": {},
   "outputs": [
    {
     "name": "stderr",
     "output_type": "stream",
     "text": [
      "INFO:linopy.model: Solve problem using Highs solver\n",
      "INFO:linopy.io:Writing objective.\n",
      "Writing constraints.: 100%|\u001b[38;2;128;191;255m██████████\u001b[0m| 5/5 [00:00<00:00, 20.57it/s]\n",
      "Writing continuous variables.: 100%|\u001b[38;2;128;191;255m██████████\u001b[0m| 2/2 [00:00<00:00, 41.48it/s]\n",
      "INFO:linopy.io: Writing time: 0.31s\n",
      "INFO:linopy.solvers:Log file at C:\\Users\\sdotson\\AppData\\Local\\Temp\\highs.log\n",
      "INFO:linopy.constants: Optimization successful: \n",
      "Status: ok\n",
      "Termination condition: optimal\n",
      "Solution: 26283 primals, 61324 duals\n",
      "Objective: 4.67e+05\n",
      "Solver model: available\n",
      "Solver message: optimal\n",
      "\n",
      "INFO:pypsa.optimization.optimize:The shadow-prices of the constraints Generator-ext-p-lower, Generator-ext-p-upper were not assigned to the network.\n"
     ]
    },
    {
     "data": {
      "text/plain": [
       "('ok', 'optimal')"
      ]
     },
     "execution_count": 19,
     "metadata": {},
     "output_type": "execute_result"
    }
   ],
   "source": [
    "n.optimize(solver_name='highs')"
   ]
  },
  {
   "cell_type": "code",
   "execution_count": 20,
   "metadata": {},
   "outputs": [
    {
     "name": "stderr",
     "output_type": "stream",
     "text": [
      "c:\\Users\\sdotson\\AppData\\Local\\miniforge3\\envs\\kansas-city\\lib\\site-packages\\pypsa\\statistics.py:308: FutureWarning:\n",
      "\n",
      "The default dtype for empty Series will be 'object' instead of 'float64' in a future version. Specify a dtype explicitly to silence this warning.\n",
      "\n"
     ]
    },
    {
     "data": {
      "text/html": [
       "<div>\n",
       "<style scoped>\n",
       "    .dataframe tbody tr th:only-of-type {\n",
       "        vertical-align: middle;\n",
       "    }\n",
       "\n",
       "    .dataframe tbody tr th {\n",
       "        vertical-align: top;\n",
       "    }\n",
       "\n",
       "    .dataframe thead th {\n",
       "        text-align: right;\n",
       "    }\n",
       "</style>\n",
       "<table border=\"1\" class=\"dataframe\">\n",
       "  <thead>\n",
       "    <tr style=\"text-align: right;\">\n",
       "      <th></th>\n",
       "      <th></th>\n",
       "      <th>Optimal Capacity</th>\n",
       "      <th>Installed Capacity</th>\n",
       "      <th>Supply</th>\n",
       "      <th>Withdrawal</th>\n",
       "      <th>Dispatch</th>\n",
       "      <th>Transmission</th>\n",
       "      <th>Capacity Factor</th>\n",
       "      <th>Curtailment</th>\n",
       "      <th>Capital Expenditure</th>\n",
       "      <th>Operational Expenditure</th>\n",
       "      <th>Revenue</th>\n",
       "      <th>Market Value</th>\n",
       "    </tr>\n",
       "  </thead>\n",
       "  <tbody>\n",
       "    <tr>\n",
       "      <th>Generator</th>\n",
       "      <th>grid</th>\n",
       "      <td>1.430806</td>\n",
       "      <td>0.0</td>\n",
       "      <td>4135.96535</td>\n",
       "      <td>0.00000</td>\n",
       "      <td>4135.96535</td>\n",
       "      <td>0.0</td>\n",
       "      <td>0.329983</td>\n",
       "      <td>0.0</td>\n",
       "      <td>0.0</td>\n",
       "      <td>466950.487985</td>\n",
       "      <td>466950.487985</td>\n",
       "      <td>112.9</td>\n",
       "    </tr>\n",
       "    <tr>\n",
       "      <th>Load</th>\n",
       "      <th>-</th>\n",
       "      <td>0.000000</td>\n",
       "      <td>0.0</td>\n",
       "      <td>0.00000</td>\n",
       "      <td>4135.96535</td>\n",
       "      <td>-4135.96535</td>\n",
       "      <td>0.0</td>\n",
       "      <td>NaN</td>\n",
       "      <td>0.0</td>\n",
       "      <td>0.0</td>\n",
       "      <td>0.000000</td>\n",
       "      <td>-466950.487985</td>\n",
       "      <td>NaN</td>\n",
       "    </tr>\n",
       "  </tbody>\n",
       "</table>\n",
       "</div>"
      ],
      "text/plain": [
       "                Optimal Capacity  Installed Capacity      Supply  Withdrawal  \\\n",
       "Generator grid          1.430806                 0.0  4135.96535     0.00000   \n",
       "Load      -             0.000000                 0.0     0.00000  4135.96535   \n",
       "\n",
       "                  Dispatch  Transmission  Capacity Factor  Curtailment  \\\n",
       "Generator grid  4135.96535           0.0         0.329983          0.0   \n",
       "Load      -    -4135.96535           0.0              NaN          0.0   \n",
       "\n",
       "                Capital Expenditure  Operational Expenditure        Revenue  \\\n",
       "Generator grid                  0.0            466950.487985  466950.487985   \n",
       "Load      -                     0.0                 0.000000 -466950.487985   \n",
       "\n",
       "                Market Value  \n",
       "Generator grid         112.9  \n",
       "Load      -              NaN  "
      ]
     },
     "execution_count": 20,
     "metadata": {},
     "output_type": "execute_result"
    }
   ],
   "source": [
    "results_1 = n.statistics().copy()\n",
    "results_1"
   ]
  },
  {
   "cell_type": "markdown",
   "metadata": {},
   "source": [
    "Step 7: Calculate the LCOE from the model"
   ]
  },
  {
   "cell_type": "code",
   "execution_count": 21,
   "metadata": {},
   "outputs": [
    {
     "data": {
      "text/plain": [
       "112.9000000000018"
      ]
     },
     "execution_count": 21,
     "metadata": {},
     "output_type": "execute_result"
    }
   ],
   "source": [
    "model_lcoe_1 = n.objective / n.loads_t.p_set.sum().values[0]\n",
    "model_lcoe_1"
   ]
  },
  {
   "cell_type": "markdown",
   "metadata": {},
   "source": [
    "We observe that the model has an LCOE of $112.9/MWh, which makes sense because it only uses electricity purchased from the grid."
   ]
  },
  {
   "cell_type": "markdown",
   "metadata": {},
   "source": [
    "Step 8: Plot some data"
   ]
  },
  {
   "cell_type": "code",
   "execution_count": 22,
   "metadata": {},
   "outputs": [
    {
     "data": {
      "text/plain": [
       "<Axes: xlabel='snapshot'>"
      ]
     },
     "execution_count": 22,
     "metadata": {},
     "output_type": "execute_result"
    },
    {
     "data": {
      "image/png": "[encoded data removed]",
      "text/plain": [
       "<Figure size 640x480 with 1 Axes>"
      ]
     },
     "metadata": {},
     "output_type": "display_data"
    }
   ],
   "source": [
    "fig, ax = plt.subplots()\n",
    "time = '2018-07-08'\n",
    "n.generators_t.p.loc[time:'2018-07-12'].plot.area(ax=ax, lw=0, legend=False)\n",
    "n.loads_t.p_set.loc[time:'2018-07-12'].plot(ax=ax, color='k', legend=False)\n"
   ]
  },
  {
   "cell_type": "markdown",
   "metadata": {},
   "source": [
    "## Model Version: Net Metering\n",
    "\n",
    "At this moment, the model\n",
    "\n",
    "* uses the sticker price for rooftop solar from NREL's ATB\n",
    "* applies 50% retail price for net metering\n",
    "* does NOT include residential storage"
   ]
  },
  {
   "cell_type": "code",
   "execution_count": 23,
   "metadata": {},
   "outputs": [],
   "source": [
    "n.generators.loc['Net metering Residential', 'marginal_cost'] = retail_price*1.0"
   ]
  },
  {
   "cell_type": "code",
   "execution_count": 24,
   "metadata": {},
   "outputs": [
    {
     "name": "stderr",
     "output_type": "stream",
     "text": [
      "INFO:linopy.model: Solve problem using Highs solver\n",
      "INFO:linopy.io:Writing objective.\n",
      "Writing constraints.: 100%|\u001b[38;2;128;191;255m██████████\u001b[0m| 5/5 [00:00<00:00, 21.58it/s]\n",
      "Writing continuous variables.: 100%|\u001b[38;2;128;191;255m██████████\u001b[0m| 2/2 [00:00<00:00, 48.14it/s]\n",
      "INFO:linopy.io: Writing time: 0.3s\n",
      "INFO:linopy.solvers:Log file at C:\\Users\\sdotson\\AppData\\Local\\Temp\\highs.log\n",
      "INFO:linopy.constants: Optimization successful: \n",
      "Status: ok\n",
      "Termination condition: optimal\n",
      "Solution: 26283 primals, 61324 duals\n",
      "Objective: 4.67e+05\n",
      "Solver model: available\n",
      "Solver message: optimal\n",
      "\n",
      "INFO:pypsa.optimization.optimize:The shadow-prices of the constraints Generator-ext-p-lower, Generator-ext-p-upper were not assigned to the network.\n"
     ]
    },
    {
     "data": {
      "text/plain": [
       "('ok', 'optimal')"
      ]
     },
     "execution_count": 24,
     "metadata": {},
     "output_type": "execute_result"
    }
   ],
   "source": [
    "n.optimize(solver_name='highs')"
   ]
  },
  {
   "cell_type": "code",
   "execution_count": 25,
   "metadata": {},
   "outputs": [
    {
     "name": "stderr",
     "output_type": "stream",
     "text": [
      "c:\\Users\\sdotson\\AppData\\Local\\miniforge3\\envs\\kansas-city\\lib\\site-packages\\pypsa\\statistics.py:308: FutureWarning:\n",
      "\n",
      "The default dtype for empty Series will be 'object' instead of 'float64' in a future version. Specify a dtype explicitly to silence this warning.\n",
      "\n"
     ]
    },
    {
     "data": {
      "text/html": [
       "<div>\n",
       "<style scoped>\n",
       "    .dataframe tbody tr th:only-of-type {\n",
       "        vertical-align: middle;\n",
       "    }\n",
       "\n",
       "    .dataframe tbody tr th {\n",
       "        vertical-align: top;\n",
       "    }\n",
       "\n",
       "    .dataframe thead th {\n",
       "        text-align: right;\n",
       "    }\n",
       "</style>\n",
       "<table border=\"1\" class=\"dataframe\">\n",
       "  <thead>\n",
       "    <tr style=\"text-align: right;\">\n",
       "      <th></th>\n",
       "      <th></th>\n",
       "      <th>Optimal Capacity</th>\n",
       "      <th>Installed Capacity</th>\n",
       "      <th>Supply</th>\n",
       "      <th>Withdrawal</th>\n",
       "      <th>Dispatch</th>\n",
       "      <th>Transmission</th>\n",
       "      <th>Capacity Factor</th>\n",
       "      <th>Curtailment</th>\n",
       "      <th>Capital Expenditure</th>\n",
       "      <th>Operational Expenditure</th>\n",
       "      <th>Revenue</th>\n",
       "      <th>Market Value</th>\n",
       "    </tr>\n",
       "  </thead>\n",
       "  <tbody>\n",
       "    <tr>\n",
       "      <th>Generator</th>\n",
       "      <th>grid</th>\n",
       "      <td>1.430806</td>\n",
       "      <td>0.0</td>\n",
       "      <td>4135.96535</td>\n",
       "      <td>0.00000</td>\n",
       "      <td>4135.96535</td>\n",
       "      <td>0.0</td>\n",
       "      <td>0.329983</td>\n",
       "      <td>0.0</td>\n",
       "      <td>0.0</td>\n",
       "      <td>466950.487985</td>\n",
       "      <td>466950.487985</td>\n",
       "      <td>112.9</td>\n",
       "    </tr>\n",
       "    <tr>\n",
       "      <th>Load</th>\n",
       "      <th>-</th>\n",
       "      <td>0.000000</td>\n",
       "      <td>0.0</td>\n",
       "      <td>0.00000</td>\n",
       "      <td>4135.96535</td>\n",
       "      <td>-4135.96535</td>\n",
       "      <td>0.0</td>\n",
       "      <td>NaN</td>\n",
       "      <td>0.0</td>\n",
       "      <td>0.0</td>\n",
       "      <td>0.000000</td>\n",
       "      <td>-466950.487985</td>\n",
       "      <td>NaN</td>\n",
       "    </tr>\n",
       "  </tbody>\n",
       "</table>\n",
       "</div>"
      ],
      "text/plain": [
       "                Optimal Capacity  Installed Capacity      Supply  Withdrawal  \\\n",
       "Generator grid          1.430806                 0.0  4135.96535     0.00000   \n",
       "Load      -             0.000000                 0.0     0.00000  4135.96535   \n",
       "\n",
       "                  Dispatch  Transmission  Capacity Factor  Curtailment  \\\n",
       "Generator grid  4135.96535           0.0         0.329983          0.0   \n",
       "Load      -    -4135.96535           0.0              NaN          0.0   \n",
       "\n",
       "                Capital Expenditure  Operational Expenditure        Revenue  \\\n",
       "Generator grid                  0.0            466950.487985  466950.487985   \n",
       "Load      -                     0.0                 0.000000 -466950.487985   \n",
       "\n",
       "                Market Value  \n",
       "Generator grid         112.9  \n",
       "Load      -              NaN  "
      ]
     },
     "execution_count": 25,
     "metadata": {},
     "output_type": "execute_result"
    }
   ],
   "source": [
    "n.statistics()"
   ]
  },
  {
   "cell_type": "code",
   "execution_count": 26,
   "metadata": {},
   "outputs": [
    {
     "data": {
      "text/plain": [
       "Load\n",
       "Load Residential    112.9\n",
       "dtype: float64"
      ]
     },
     "execution_count": 26,
     "metadata": {},
     "output_type": "execute_result"
    }
   ],
   "source": [
    "model_lcoe_2 = n.objective / n.loads_t.p_set.sum()\n",
    "model_lcoe_2"
   ]
  },
  {
   "cell_type": "code",
   "execution_count": 27,
   "metadata": {},
   "outputs": [
    {
     "data": {
      "text/plain": [
       "<Axes: xlabel='snapshot'>"
      ]
     },
     "execution_count": 27,
     "metadata": {},
     "output_type": "execute_result"
    },
    {
     "data": {
      "image/png": "[encoded data removed]",
      "text/plain": [
       "<Figure size 640x480 with 1 Axes>"
      ]
     },
     "metadata": {},
     "output_type": "display_data"
    }
   ],
   "source": [
    "fig, ax = plt.subplots()\n",
    "time = '2018-07-08'\n",
    "n.generators_t.p.loc[time:'2018-07-12'].plot.area(ax=ax, lw=0, legend=False)\n",
    "n.loads_t.p_set.loc[time:'2018-07-12'].plot(ax=ax, color='k', legend=False)\n"
   ]
  },
  {
   "cell_type": "markdown",
   "metadata": {},
   "source": [
    "## Model Version: Tax Credits\n",
    "\n",
    "At this moment, the model\n",
    "\n",
    "* reduces the price for rooftop solar by applying federal tax credits.\n",
    "* does NOT pay for net metering\n",
    "* does NOT include residential storage\n",
    "\n",
    "Apply the Residential Renewable Energy Tax Credit\n",
    "\n",
    "[DSIRE Data on the RRETC](https://programs.dsireusa.org/system/program/detail/1235/residential-renewable-energy-tax-credit) -- solar and storage each get a 30% tax credit. \n",
    "\n",
    "Apply the Investment Tax Credit (ITC)\n",
    "\n",
    "[EPA Data on ITC](https://www.epa.gov/green-power-markets/summary-inflation-reduction-act-provisions-related-renewable-energy) -- qualified residential units in a low-income area recieve +20%.\n",
    "\n",
    "[Homeowner's Guide to Federal Tax Credits](https://www.energy.gov/eere/solar/homeowners-guide-federal-tax-credit-solar-photovoltaics).\n",
    "\n",
    "This will be implemented as a direct 50% cost reduction."
   ]
  },
  {
   "cell_type": "code",
   "execution_count": 28,
   "metadata": {},
   "outputs": [],
   "source": [
    "# reset the price of net metering\n",
    "n.generators.loc['Net metering Residential', 'marginal_cost'] = retail_price*0.0"
   ]
  },
  {
   "cell_type": "code",
   "execution_count": 29,
   "metadata": {},
   "outputs": [],
   "source": [
    "rretc_credit = 0.5"
   ]
  },
  {
   "cell_type": "code",
   "execution_count": 30,
   "metadata": {},
   "outputs": [],
   "source": [
    "n.generators.loc['ResPV', 'capital_cost'] *= (1-rretc_credit)"
   ]
  },
  {
   "cell_type": "code",
   "execution_count": 31,
   "metadata": {},
   "outputs": [
    {
     "name": "stderr",
     "output_type": "stream",
     "text": [
      "INFO:linopy.model: Solve problem using Highs solver\n",
      "INFO:linopy.io:Writing objective.\n",
      "Writing constraints.: 100%|\u001b[38;2;128;191;255m██████████\u001b[0m| 5/5 [00:00<00:00, 20.73it/s]\n",
      "Writing continuous variables.: 100%|\u001b[38;2;128;191;255m██████████\u001b[0m| 2/2 [00:00<00:00, 42.85it/s]\n",
      "INFO:linopy.io: Writing time: 0.3s\n",
      "INFO:linopy.solvers:Log file at C:\\Users\\sdotson\\AppData\\Local\\Temp\\highs.log\n",
      "INFO:linopy.constants: Optimization successful: \n",
      "Status: ok\n",
      "Termination condition: optimal\n",
      "Solution: 26283 primals, 61324 duals\n",
      "Objective: 4.17e+05\n",
      "Solver model: available\n",
      "Solver message: optimal\n",
      "\n",
      "INFO:pypsa.optimization.optimize:The shadow-prices of the constraints Generator-ext-p-lower, Generator-ext-p-upper were not assigned to the network.\n"
     ]
    },
    {
     "data": {
      "text/plain": [
       "('ok', 'optimal')"
      ]
     },
     "execution_count": 31,
     "metadata": {},
     "output_type": "execute_result"
    }
   ],
   "source": [
    "n.optimize(solver_name='highs')"
   ]
  },
  {
   "cell_type": "code",
   "execution_count": 34,
   "metadata": {},
   "outputs": [
    {
     "name": "stderr",
     "output_type": "stream",
     "text": [
      "c:\\Users\\sdotson\\AppData\\Local\\miniforge3\\envs\\kansas-city\\lib\\site-packages\\pypsa\\statistics.py:308: FutureWarning:\n",
      "\n",
      "The default dtype for empty Series will be 'object' instead of 'float64' in a future version. Specify a dtype explicitly to silence this warning.\n",
      "\n"
     ]
    },
    {
     "data": {
      "text/html": [
       "<div>\n",
       "<style scoped>\n",
       "    .dataframe tbody tr th:only-of-type {\n",
       "        vertical-align: middle;\n",
       "    }\n",
       "\n",
       "    .dataframe tbody tr th {\n",
       "        vertical-align: top;\n",
       "    }\n",
       "\n",
       "    .dataframe thead th {\n",
       "        text-align: right;\n",
       "    }\n",
       "</style>\n",
       "<table border=\"1\" class=\"dataframe\">\n",
       "  <thead>\n",
       "    <tr style=\"text-align: right;\">\n",
       "      <th></th>\n",
       "      <th></th>\n",
       "      <th>Optimal Capacity</th>\n",
       "      <th>Installed Capacity</th>\n",
       "      <th>Supply</th>\n",
       "      <th>Withdrawal</th>\n",
       "      <th>Dispatch</th>\n",
       "      <th>Transmission</th>\n",
       "      <th>Capacity Factor</th>\n",
       "      <th>Curtailment</th>\n",
       "      <th>Capital Expenditure</th>\n",
       "      <th>Operational Expenditure</th>\n",
       "      <th>Revenue</th>\n",
       "      <th>Market Value</th>\n",
       "    </tr>\n",
       "  </thead>\n",
       "  <tbody>\n",
       "    <tr>\n",
       "      <th rowspan=\"3\" valign=\"top\">Generator</th>\n",
       "      <th>grid</th>\n",
       "      <td>1.342852</td>\n",
       "      <td>0.0</td>\n",
       "      <td>2964.049410</td>\n",
       "      <td>0.00000</td>\n",
       "      <td>2964.049410</td>\n",
       "      <td>0.0</td>\n",
       "      <td>0.251973</td>\n",
       "      <td>0.000000e+00</td>\n",
       "      <td>0.0000</td>\n",
       "      <td>334641.178424</td>\n",
       "      <td>334641.178424</td>\n",
       "      <td>112.900000</td>\n",
       "    </tr>\n",
       "    <tr>\n",
       "      <th>net metering</th>\n",
       "      <td>0.669086</td>\n",
       "      <td>0.0</td>\n",
       "      <td>0.000000</td>\n",
       "      <td>224.13732</td>\n",
       "      <td>-224.137320</td>\n",
       "      <td>0.0</td>\n",
       "      <td>0.038241</td>\n",
       "      <td>0.000000e+00</td>\n",
       "      <td>0.0000</td>\n",
       "      <td>0.000000</td>\n",
       "      <td>0.000000</td>\n",
       "      <td>0.000000</td>\n",
       "    </tr>\n",
       "    <tr>\n",
       "      <th>solar</th>\n",
       "      <td>0.947609</td>\n",
       "      <td>0.0</td>\n",
       "      <td>1396.053259</td>\n",
       "      <td>0.00000</td>\n",
       "      <td>1396.053259</td>\n",
       "      <td>0.0</td>\n",
       "      <td>0.168178</td>\n",
       "      <td>3.914040e-10</td>\n",
       "      <td>82394.7361</td>\n",
       "      <td>0.000000</td>\n",
       "      <td>82394.736100</td>\n",
       "      <td>59.019766</td>\n",
       "    </tr>\n",
       "    <tr>\n",
       "      <th>Load</th>\n",
       "      <th>-</th>\n",
       "      <td>0.000000</td>\n",
       "      <td>0.0</td>\n",
       "      <td>0.000000</td>\n",
       "      <td>4135.96535</td>\n",
       "      <td>-4135.965350</td>\n",
       "      <td>0.0</td>\n",
       "      <td>NaN</td>\n",
       "      <td>0.000000e+00</td>\n",
       "      <td>0.0000</td>\n",
       "      <td>0.000000</td>\n",
       "      <td>-417035.914525</td>\n",
       "      <td>NaN</td>\n",
       "    </tr>\n",
       "  </tbody>\n",
       "</table>\n",
       "</div>"
      ],
      "text/plain": [
       "                        Optimal Capacity  Installed Capacity       Supply  \\\n",
       "Generator grid                  1.342852                 0.0  2964.049410   \n",
       "          net metering          0.669086                 0.0     0.000000   \n",
       "          solar                 0.947609                 0.0  1396.053259   \n",
       "Load      -                     0.000000                 0.0     0.000000   \n",
       "\n",
       "                        Withdrawal     Dispatch  Transmission  \\\n",
       "Generator grid             0.00000  2964.049410           0.0   \n",
       "          net metering   224.13732  -224.137320           0.0   \n",
       "          solar            0.00000  1396.053259           0.0   \n",
       "Load      -             4135.96535 -4135.965350           0.0   \n",
       "\n",
       "                        Capacity Factor   Curtailment  Capital Expenditure  \\\n",
       "Generator grid                 0.251973  0.000000e+00               0.0000   \n",
       "          net metering         0.038241  0.000000e+00               0.0000   \n",
       "          solar                0.168178  3.914040e-10           82394.7361   \n",
       "Load      -                         NaN  0.000000e+00               0.0000   \n",
       "\n",
       "                        Operational Expenditure        Revenue  Market Value  \n",
       "Generator grid                    334641.178424  334641.178424    112.900000  \n",
       "          net metering                 0.000000       0.000000      0.000000  \n",
       "          solar                        0.000000   82394.736100     59.019766  \n",
       "Load      -                            0.000000 -417035.914525           NaN  "
      ]
     },
     "execution_count": 34,
     "metadata": {},
     "output_type": "execute_result"
    }
   ],
   "source": [
    "n.statistics()"
   ]
  },
  {
   "cell_type": "markdown",
   "metadata": {},
   "source": [
    "Calculate the LCOE"
   ]
  },
  {
   "cell_type": "code",
   "execution_count": 35,
   "metadata": {},
   "outputs": [
    {
     "data": {
      "text/plain": [
       "100.83157842499818"
      ]
     },
     "execution_count": 35,
     "metadata": {},
     "output_type": "execute_result"
    }
   ],
   "source": [
    "model_lcoe_3 = n.objective / n.loads_t.p_set.sum().values[0]\n",
    "model_lcoe_3"
   ]
  },
  {
   "cell_type": "markdown",
   "metadata": {},
   "source": [
    "Calculate the electricity price reduction"
   ]
  },
  {
   "cell_type": "code",
   "execution_count": 36,
   "metadata": {},
   "outputs": [
    {
     "data": {
      "text/plain": [
       "10.689479185119586"
      ]
     },
     "execution_count": 36,
     "metadata": {},
     "output_type": "execute_result"
    }
   ],
   "source": [
    "np.abs((100.831578 - 112.9)/112.9)*100"
   ]
  },
  {
   "cell_type": "markdown",
   "metadata": {},
   "source": [
    "Looks like almost a 10.7% reduction in electricity cost."
   ]
  },
  {
   "cell_type": "code",
   "execution_count": 37,
   "metadata": {},
   "outputs": [
    {
     "data": {
      "text/plain": [
       "<Axes: xlabel='snapshot'>"
      ]
     },
     "execution_count": 37,
     "metadata": {},
     "output_type": "execute_result"
    },
    {
     "data": {
      "image/png": "[encoded data removed]",
      "text/plain": [
       "<Figure size 640x480 with 1 Axes>"
      ]
     },
     "metadata": {},
     "output_type": "display_data"
    }
   ],
   "source": [
    "fig, ax = plt.subplots()\n",
    "time = '2018-07-08'\n",
    "n.generators_t.p.loc[time:'2018-07-12'].plot.area(ax=ax, lw=0, legend=False)\n",
    "n.loads_t.p_set.loc[time:'2018-07-12'].plot(ax=ax, color='k', legend=False)"
   ]
  },
  {
   "cell_type": "markdown",
   "metadata": {},
   "source": [
    "## Model Version: Net Metering + Tax Credits\n",
    "\n",
    "At this moment, the model\n",
    "\n",
    "* reduces the price for rooftop solar by applying federal tax credits.\n",
    "* Applies 50% retail price for net metering\n",
    "* does NOT include residential storage"
   ]
  },
  {
   "cell_type": "code",
   "execution_count": 38,
   "metadata": {},
   "outputs": [
    {
     "data": {
      "text/plain": [
       "Generator\n",
       "ResPV                         0.0\n",
       "Net metering Residential      0.0\n",
       "Evergy Import               112.9\n",
       "Name: marginal_cost, dtype: float64"
      ]
     },
     "execution_count": 38,
     "metadata": {},
     "output_type": "execute_result"
    }
   ],
   "source": [
    "n.generators.marginal_cost"
   ]
  },
  {
   "cell_type": "code",
   "execution_count": 53,
   "metadata": {},
   "outputs": [],
   "source": [
    "n.generators.loc['Net metering Residential', 'marginal_cost'] = retail_price*0.5"
   ]
  },
  {
   "cell_type": "code",
   "execution_count": 54,
   "metadata": {},
   "outputs": [
    {
     "data": {
      "text/plain": [
       "Generator\n",
       "ResPV                         0.00\n",
       "Net metering Residential     56.45\n",
       "Evergy Import               112.90\n",
       "Name: marginal_cost, dtype: float64"
      ]
     },
     "execution_count": 54,
     "metadata": {},
     "output_type": "execute_result"
    }
   ],
   "source": [
    "n.generators.marginal_cost"
   ]
  },
  {
   "cell_type": "code",
   "execution_count": 55,
   "metadata": {},
   "outputs": [
    {
     "name": "stderr",
     "output_type": "stream",
     "text": [
      "INFO:linopy.model: Solve problem using Highs solver\n",
      "INFO:linopy.io:Writing objective.\n",
      "Writing constraints.: 100%|\u001b[38;2;128;191;255m██████████\u001b[0m| 5/5 [00:00<00:00, 22.14it/s]\n",
      "Writing continuous variables.: 100%|\u001b[38;2;128;191;255m██████████\u001b[0m| 2/2 [00:00<00:00, 56.54it/s]\n",
      "INFO:linopy.io: Writing time: 0.3s\n",
      "INFO:linopy.solvers:Log file at C:\\Users\\sdotson\\AppData\\Local\\Temp\\highs.log\n",
      "INFO:linopy.constants: Optimization successful: \n",
      "Status: ok\n",
      "Termination condition: optimal\n",
      "Solution: 26283 primals, 61324 duals\n",
      "Objective: 3.77e+05\n",
      "Solver model: available\n",
      "Solver message: optimal\n",
      "\n",
      "INFO:pypsa.optimization.optimize:The shadow-prices of the constraints Generator-ext-p-lower, Generator-ext-p-upper were not assigned to the network.\n"
     ]
    },
    {
     "data": {
      "text/plain": [
       "('ok', 'optimal')"
      ]
     },
     "execution_count": 55,
     "metadata": {},
     "output_type": "execute_result"
    }
   ],
   "source": [
    "n.optimize(solver_name='highs')"
   ]
  },
  {
   "cell_type": "code",
   "execution_count": 56,
   "metadata": {},
   "outputs": [
    {
     "name": "stderr",
     "output_type": "stream",
     "text": [
      "c:\\Users\\sdotson\\AppData\\Local\\miniforge3\\envs\\kansas-city\\lib\\site-packages\\pypsa\\statistics.py:308: FutureWarning:\n",
      "\n",
      "The default dtype for empty Series will be 'object' instead of 'float64' in a future version. Specify a dtype explicitly to silence this warning.\n",
      "\n"
     ]
    },
    {
     "data": {
      "text/html": [
       "<div>\n",
       "<style scoped>\n",
       "    .dataframe tbody tr th:only-of-type {\n",
       "        vertical-align: middle;\n",
       "    }\n",
       "\n",
       "    .dataframe tbody tr th {\n",
       "        vertical-align: top;\n",
       "    }\n",
       "\n",
       "    .dataframe thead th {\n",
       "        text-align: right;\n",
       "    }\n",
       "</style>\n",
       "<table border=\"1\" class=\"dataframe\">\n",
       "  <thead>\n",
       "    <tr style=\"text-align: right;\">\n",
       "      <th></th>\n",
       "      <th></th>\n",
       "      <th>Optimal Capacity</th>\n",
       "      <th>Installed Capacity</th>\n",
       "      <th>Supply</th>\n",
       "      <th>Withdrawal</th>\n",
       "      <th>Dispatch</th>\n",
       "      <th>Transmission</th>\n",
       "      <th>Capacity Factor</th>\n",
       "      <th>Curtailment</th>\n",
       "      <th>Capital Expenditure</th>\n",
       "      <th>Operational Expenditure</th>\n",
       "      <th>Revenue</th>\n",
       "      <th>Market Value</th>\n",
       "    </tr>\n",
       "  </thead>\n",
       "  <tbody>\n",
       "    <tr>\n",
       "      <th rowspan=\"3\" valign=\"top\">Generator</th>\n",
       "      <th>grid</th>\n",
       "      <td>1.331491</td>\n",
       "      <td>0.0</td>\n",
       "      <td>2358.485524</td>\n",
       "      <td>0.000000</td>\n",
       "      <td>2358.485524</td>\n",
       "      <td>0.0</td>\n",
       "      <td>0.202205</td>\n",
       "      <td>0.000000e+00</td>\n",
       "      <td>0.000000</td>\n",
       "      <td>266273.015698</td>\n",
       "      <td>266273.015698</td>\n",
       "      <td>112.900000</td>\n",
       "    </tr>\n",
       "    <tr>\n",
       "      <th>net metering</th>\n",
       "      <td>2.505756</td>\n",
       "      <td>0.0</td>\n",
       "      <td>0.000000</td>\n",
       "      <td>2357.900052</td>\n",
       "      <td>-2357.900052</td>\n",
       "      <td>0.0</td>\n",
       "      <td>0.107419</td>\n",
       "      <td>0.000000e+00</td>\n",
       "      <td>0.000000</td>\n",
       "      <td>-133103.457958</td>\n",
       "      <td>-133103.457958</td>\n",
       "      <td>NaN</td>\n",
       "    </tr>\n",
       "    <tr>\n",
       "      <th>solar</th>\n",
       "      <td>2.807000</td>\n",
       "      <td>0.0</td>\n",
       "      <td>4135.379878</td>\n",
       "      <td>0.000000</td>\n",
       "      <td>4135.379878</td>\n",
       "      <td>0.0</td>\n",
       "      <td>0.168178</td>\n",
       "      <td>1.159408e-09</td>\n",
       "      <td>244069.150984</td>\n",
       "      <td>0.000000</td>\n",
       "      <td>255898.612865</td>\n",
       "      <td>61.880316</td>\n",
       "    </tr>\n",
       "    <tr>\n",
       "      <th>Load</th>\n",
       "      <th>-</th>\n",
       "      <td>0.000000</td>\n",
       "      <td>0.0</td>\n",
       "      <td>0.000000</td>\n",
       "      <td>4135.965350</td>\n",
       "      <td>-4135.965350</td>\n",
       "      <td>0.0</td>\n",
       "      <td>NaN</td>\n",
       "      <td>0.000000e+00</td>\n",
       "      <td>0.000000</td>\n",
       "      <td>0.000000</td>\n",
       "      <td>-389068.170605</td>\n",
       "      <td>NaN</td>\n",
       "    </tr>\n",
       "  </tbody>\n",
       "</table>\n",
       "</div>"
      ],
      "text/plain": [
       "                        Optimal Capacity  Installed Capacity       Supply  \\\n",
       "Generator grid                  1.331491                 0.0  2358.485524   \n",
       "          net metering          2.505756                 0.0     0.000000   \n",
       "          solar                 2.807000                 0.0  4135.379878   \n",
       "Load      -                     0.000000                 0.0     0.000000   \n",
       "\n",
       "                         Withdrawal     Dispatch  Transmission  \\\n",
       "Generator grid             0.000000  2358.485524           0.0   \n",
       "          net metering  2357.900052 -2357.900052           0.0   \n",
       "          solar            0.000000  4135.379878           0.0   \n",
       "Load      -             4135.965350 -4135.965350           0.0   \n",
       "\n",
       "                        Capacity Factor   Curtailment  Capital Expenditure  \\\n",
       "Generator grid                 0.202205  0.000000e+00             0.000000   \n",
       "          net metering         0.107419  0.000000e+00             0.000000   \n",
       "          solar                0.168178  1.159408e-09        244069.150984   \n",
       "Load      -                         NaN  0.000000e+00             0.000000   \n",
       "\n",
       "                        Operational Expenditure        Revenue  Market Value  \n",
       "Generator grid                    266273.015698  266273.015698    112.900000  \n",
       "          net metering           -133103.457958 -133103.457958           NaN  \n",
       "          solar                        0.000000  255898.612865     61.880316  \n",
       "Load      -                            0.000000 -389068.170605           NaN  "
      ]
     },
     "execution_count": 56,
     "metadata": {},
     "output_type": "execute_result"
    }
   ],
   "source": [
    "n.statistics()"
   ]
  },
  {
   "cell_type": "code",
   "execution_count": 57,
   "metadata": {},
   "outputs": [
    {
     "data": {
      "text/plain": [
       "91.20934940819072"
      ]
     },
     "execution_count": 57,
     "metadata": {},
     "output_type": "execute_result"
    }
   ],
   "source": [
    "model_lcoe_4 = n.objective / n.loads_t.p_set.sum().values[0]\n",
    "model_lcoe_4"
   ]
  },
  {
   "cell_type": "code",
   "execution_count": 58,
   "metadata": {},
   "outputs": [
    {
     "data": {
      "text/plain": [
       "<Axes: xlabel='snapshot'>"
      ]
     },
     "execution_count": 58,
     "metadata": {},
     "output_type": "execute_result"
    },
    {
     "data": {
      "image/png": "[encoded data removed]",
      "text/plain": [
       "<Figure size 640x480 with 1 Axes>"
      ]
     },
     "metadata": {},
     "output_type": "display_data"
    }
   ],
   "source": [
    "fig, ax = plt.subplots()\n",
    "time = '2018-07-08'\n",
    "n.generators_t.p.loc[time:'2018-07-12'].plot.area(ax=ax, lw=0, legend=False)\n",
    "n.loads_t.p_set.loc[time:'2018-07-12'].plot(ax=ax, color='k', legend=False)"
   ]
  },
  {
   "cell_type": "markdown",
   "metadata": {},
   "source": [
    "## Model Version: Net Metering + Tax Credits\n",
    "\n",
    "At this moment, the model\n",
    "\n",
    "* reduces the price for rooftop solar by applying federal tax credits.\n",
    "* Applies 99% retail price for net metering\n",
    "* does NOT include residential storage"
   ]
  },
  {
   "cell_type": "code",
   "execution_count": 59,
   "metadata": {},
   "outputs": [],
   "source": [
    "n.generators.loc['Net metering Residential', 'marginal_cost'] = retail_price*1.00"
   ]
  },
  {
   "cell_type": "code",
   "execution_count": 60,
   "metadata": {},
   "outputs": [
    {
     "data": {
      "text/plain": [
       "Generator\n",
       "ResPV                         0.0\n",
       "Net metering Residential    112.9\n",
       "Evergy Import               112.9\n",
       "Name: marginal_cost, dtype: float64"
      ]
     },
     "execution_count": 60,
     "metadata": {},
     "output_type": "execute_result"
    }
   ],
   "source": [
    "n.generators.marginal_cost"
   ]
  },
  {
   "cell_type": "code",
   "execution_count": 61,
   "metadata": {},
   "outputs": [],
   "source": [
    "n.generators.loc['ResPV', 'p_nom_max'] = 2.807"
   ]
  },
  {
   "cell_type": "code",
   "execution_count": 62,
   "metadata": {},
   "outputs": [
    {
     "name": "stderr",
     "output_type": "stream",
     "text": [
      "INFO:linopy.model: Solve problem using Highs solver\n",
      "INFO:linopy.io:Writing objective.\n",
      "Writing constraints.: 100%|\u001b[38;2;128;191;255m██████████\u001b[0m| 5/5 [00:00<00:00, 21.42it/s]\n",
      "Writing continuous variables.: 100%|\u001b[38;2;128;191;255m██████████\u001b[0m| 2/2 [00:00<00:00, 55.85it/s]\n",
      "INFO:linopy.io: Writing time: 0.3s\n",
      "INFO:linopy.solvers:Log file at C:\\Users\\sdotson\\AppData\\Local\\Temp\\highs.log\n",
      "INFO:linopy.constants: Optimization successful: \n",
      "Status: ok\n",
      "Termination condition: optimal\n",
      "Solution: 26283 primals, 61324 duals\n",
      "Objective: 2.44e+05\n",
      "Solver model: available\n",
      "Solver message: optimal\n",
      "\n",
      "INFO:pypsa.optimization.optimize:The shadow-prices of the constraints Generator-ext-p-lower, Generator-ext-p-upper were not assigned to the network.\n"
     ]
    },
    {
     "data": {
      "text/plain": [
       "('ok', 'optimal')"
      ]
     },
     "execution_count": 62,
     "metadata": {},
     "output_type": "execute_result"
    }
   ],
   "source": [
    "n.optimize(solver_name='highs')"
   ]
  },
  {
   "cell_type": "code",
   "execution_count": 63,
   "metadata": {},
   "outputs": [
    {
     "name": "stderr",
     "output_type": "stream",
     "text": [
      "c:\\Users\\sdotson\\AppData\\Local\\miniforge3\\envs\\kansas-city\\lib\\site-packages\\pypsa\\statistics.py:308: FutureWarning:\n",
      "\n",
      "The default dtype for empty Series will be 'object' instead of 'float64' in a future version. Specify a dtype explicitly to silence this warning.\n",
      "\n"
     ]
    },
    {
     "data": {
      "text/html": [
       "<div>\n",
       "<style scoped>\n",
       "    .dataframe tbody tr th:only-of-type {\n",
       "        vertical-align: middle;\n",
       "    }\n",
       "\n",
       "    .dataframe tbody tr th {\n",
       "        vertical-align: top;\n",
       "    }\n",
       "\n",
       "    .dataframe thead th {\n",
       "        text-align: right;\n",
       "    }\n",
       "</style>\n",
       "<table border=\"1\" class=\"dataframe\">\n",
       "  <thead>\n",
       "    <tr style=\"text-align: right;\">\n",
       "      <th></th>\n",
       "      <th></th>\n",
       "      <th>Optimal Capacity</th>\n",
       "      <th>Installed Capacity</th>\n",
       "      <th>Supply</th>\n",
       "      <th>Withdrawal</th>\n",
       "      <th>Dispatch</th>\n",
       "      <th>Transmission</th>\n",
       "      <th>Capacity Factor</th>\n",
       "      <th>Curtailment</th>\n",
       "      <th>Capital Expenditure</th>\n",
       "      <th>Operational Expenditure</th>\n",
       "      <th>Revenue</th>\n",
       "      <th>Market Value</th>\n",
       "    </tr>\n",
       "  </thead>\n",
       "  <tbody>\n",
       "    <tr>\n",
       "      <th rowspan=\"3\" valign=\"top\">Generator</th>\n",
       "      <th>grid</th>\n",
       "      <td>1.331491</td>\n",
       "      <td>0.0</td>\n",
       "      <td>2358.485524</td>\n",
       "      <td>0.000000</td>\n",
       "      <td>2358.485524</td>\n",
       "      <td>0.0</td>\n",
       "      <td>0.202205</td>\n",
       "      <td>0.000000e+00</td>\n",
       "      <td>0.000000</td>\n",
       "      <td>266273.015698</td>\n",
       "      <td>266273.015698</td>\n",
       "      <td>112.9</td>\n",
       "    </tr>\n",
       "    <tr>\n",
       "      <th>net metering</th>\n",
       "      <td>2.505756</td>\n",
       "      <td>0.0</td>\n",
       "      <td>0.000000</td>\n",
       "      <td>2357.900052</td>\n",
       "      <td>-2357.900052</td>\n",
       "      <td>0.0</td>\n",
       "      <td>0.107419</td>\n",
       "      <td>0.000000e+00</td>\n",
       "      <td>0.000000</td>\n",
       "      <td>-266206.915917</td>\n",
       "      <td>-266206.915917</td>\n",
       "      <td>NaN</td>\n",
       "    </tr>\n",
       "    <tr>\n",
       "      <th>solar</th>\n",
       "      <td>2.807000</td>\n",
       "      <td>0.0</td>\n",
       "      <td>4135.379878</td>\n",
       "      <td>0.000000</td>\n",
       "      <td>4135.379878</td>\n",
       "      <td>0.0</td>\n",
       "      <td>0.168178</td>\n",
       "      <td>1.159408e-09</td>\n",
       "      <td>244069.150984</td>\n",
       "      <td>0.000000</td>\n",
       "      <td>466884.388204</td>\n",
       "      <td>112.9</td>\n",
       "    </tr>\n",
       "    <tr>\n",
       "      <th>Load</th>\n",
       "      <th>-</th>\n",
       "      <td>0.000000</td>\n",
       "      <td>0.0</td>\n",
       "      <td>0.000000</td>\n",
       "      <td>4135.965350</td>\n",
       "      <td>-4135.965350</td>\n",
       "      <td>0.0</td>\n",
       "      <td>NaN</td>\n",
       "      <td>0.000000e+00</td>\n",
       "      <td>0.000000</td>\n",
       "      <td>0.000000</td>\n",
       "      <td>-466950.487985</td>\n",
       "      <td>NaN</td>\n",
       "    </tr>\n",
       "  </tbody>\n",
       "</table>\n",
       "</div>"
      ],
      "text/plain": [
       "                        Optimal Capacity  Installed Capacity       Supply  \\\n",
       "Generator grid                  1.331491                 0.0  2358.485524   \n",
       "          net metering          2.505756                 0.0     0.000000   \n",
       "          solar                 2.807000                 0.0  4135.379878   \n",
       "Load      -                     0.000000                 0.0     0.000000   \n",
       "\n",
       "                         Withdrawal     Dispatch  Transmission  \\\n",
       "Generator grid             0.000000  2358.485524           0.0   \n",
       "          net metering  2357.900052 -2357.900052           0.0   \n",
       "          solar            0.000000  4135.379878           0.0   \n",
       "Load      -             4135.965350 -4135.965350           0.0   \n",
       "\n",
       "                        Capacity Factor   Curtailment  Capital Expenditure  \\\n",
       "Generator grid                 0.202205  0.000000e+00             0.000000   \n",
       "          net metering         0.107419  0.000000e+00             0.000000   \n",
       "          solar                0.168178  1.159408e-09        244069.150984   \n",
       "Load      -                         NaN  0.000000e+00             0.000000   \n",
       "\n",
       "                        Operational Expenditure        Revenue  Market Value  \n",
       "Generator grid                    266273.015698  266273.015698         112.9  \n",
       "          net metering           -266206.915917 -266206.915917           NaN  \n",
       "          solar                        0.000000  466884.388204         112.9  \n",
       "Load      -                            0.000000 -466950.487985           NaN  "
      ]
     },
     "execution_count": 63,
     "metadata": {},
     "output_type": "execute_result"
    }
   ],
   "source": [
    "n.statistics()"
   ]
  },
  {
   "cell_type": "code",
   "execution_count": 64,
   "metadata": {},
   "outputs": [
    {
     "data": {
      "text/plain": [
       "59.02739266934207"
      ]
     },
     "execution_count": 64,
     "metadata": {},
     "output_type": "execute_result"
    }
   ],
   "source": [
    "model_lcoe_5 = n.objective / n.loads_t.p_set.sum().values[0]\n",
    "model_lcoe_5"
   ]
  },
  {
   "cell_type": "code",
   "execution_count": 65,
   "metadata": {},
   "outputs": [
    {
     "data": {
      "text/plain": [
       "<Axes: xlabel='snapshot'>"
      ]
     },
     "execution_count": 65,
     "metadata": {},
     "output_type": "execute_result"
    },
    {
     "data": {
      "image/png": "[encoded data removed]",
      "text/plain": [
       "<Figure size 640x480 with 1 Axes>"
      ]
     },
     "metadata": {},
     "output_type": "display_data"
    }
   ],
   "source": [
    "fig, ax = plt.subplots()\n",
    "time = '2018-07-08'\n",
    "n.generators_t.p.loc[time:'2018-07-12'].plot.area(ax=ax, lw=0, legend=False)\n",
    "n.loads_t.p_set.loc[time:'2018-07-12'].plot(ax=ax, color='k', legend=False)"
   ]
  },
  {
   "cell_type": "code",
   "execution_count": null,
   "metadata": {},
   "outputs": [],
   "source": []
  }
 ],
 "metadata": {
  "kernelspec": {
   "display_name": "kansas-city",
   "language": "python",
   "name": "python3"
  },
  "language_info": {
   "codemirror_mode": {
    "name": "ipython",
    "version": 3
   },
   "file_extension": ".py",
   "mimetype": "text/x-python",
   "name": "python",
   "nbconvert_exporter": "python",
   "pygments_lexer": "ipython3",
   "version": "3.10.13"
  }
 },
 "nbformat": 4,
 "nbformat_minor": 2
}
