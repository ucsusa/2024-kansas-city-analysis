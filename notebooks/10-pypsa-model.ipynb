{
 "cells": [
  {
   "cell_type": "code",
   "execution_count": 28,
   "metadata": {},
   "outputs": [],
   "source": [
    "import numpy as np\n",
    "import pandas as pd\n",
    "import pypsa\n",
    "import matplotlib.pyplot as plt"
   ]
  },
  {
   "cell_type": "markdown",
   "metadata": {},
   "source": [
    "# PyPSA Network"
   ]
  },
  {
   "cell_type": "code",
   "execution_count": 29,
   "metadata": {},
   "outputs": [],
   "source": [
    "n = pypsa.Network(name='Armourdale')\n",
    "\n",
    "N_days=365\n",
    "N_hours=24\n",
    "\n",
    "index = pd.date_range(start=\"2018-01-01\", \n",
    "                      periods=N_days*N_hours, \n",
    "                      freq='h')\n",
    "\n",
    "n.set_snapshots(index)"
   ]
  },
  {
   "cell_type": "markdown",
   "metadata": {},
   "source": [
    "Step 1: Add buses"
   ]
  },
  {
   "cell_type": "code",
   "execution_count": 30,
   "metadata": {},
   "outputs": [],
   "source": [
    "bus_name = 'Residential'\n",
    "n.add(class_name='Bus',\n",
    "      name=bus_name,\n",
    "      carrier='AC')"
   ]
  },
  {
   "cell_type": "markdown",
   "metadata": {},
   "source": [
    "Step 2: Add energy carriers"
   ]
  },
  {
   "cell_type": "code",
   "execution_count": 31,
   "metadata": {},
   "outputs": [],
   "source": [
    "n.add(class_name=\"Carrier\", name=\"grid\")\n",
    "n.add(class_name=\"Carrier\", name=\"solar\")\n",
    "n.add(class_name=\"Carrier\", name=\"battery\")"
   ]
  },
  {
   "cell_type": "markdown",
   "metadata": {},
   "source": [
    "Step 3: Add load"
   ]
  },
  {
   "cell_type": "code",
   "execution_count": 32,
   "metadata": {},
   "outputs": [],
   "source": [
    "load = pd.read_csv(\"../data/timeseries/residential_elec_load_rescaled.csv\", parse_dates=True, index_col='timestamp')"
   ]
  },
  {
   "cell_type": "code",
   "execution_count": 33,
   "metadata": {},
   "outputs": [],
   "source": [
    "load_resampled = load.loc['2018'].resample('h').mean().sum(axis=1)\n",
    "load_resampled = load_resampled / 1e3  # kW --> MW"
   ]
  },
  {
   "cell_type": "code",
   "execution_count": 34,
   "metadata": {},
   "outputs": [],
   "source": [
    "n.add(\n",
    "    class_name=\"Load\",\n",
    "    name=f\"Load {bus_name}\",\n",
    "    bus=bus_name,\n",
    "    p_set=load_resampled\n",
    ")"
   ]
  },
  {
   "cell_type": "markdown",
   "metadata": {},
   "source": [
    "Step 3: Add weather data"
   ]
  },
  {
   "cell_type": "code",
   "execution_count": 35,
   "metadata": {},
   "outputs": [
    {
     "data": {
      "text/html": [
       "<div>\n",
       "<style scoped>\n",
       "    .dataframe tbody tr th:only-of-type {\n",
       "        vertical-align: middle;\n",
       "    }\n",
       "\n",
       "    .dataframe tbody tr th {\n",
       "        vertical-align: top;\n",
       "    }\n",
       "\n",
       "    .dataframe thead th {\n",
       "        text-align: right;\n",
       "    }\n",
       "</style>\n",
       "<table border=\"1\" class=\"dataframe\">\n",
       "  <thead>\n",
       "    <tr style=\"text-align: right;\">\n",
       "      <th></th>\n",
       "      <th>date_time</th>\n",
       "      <th>temp_db</th>\n",
       "      <th>rel_humidity</th>\n",
       "      <th>wind_speed</th>\n",
       "      <th>wind_direction</th>\n",
       "      <th>ghi</th>\n",
       "      <th>dni</th>\n",
       "      <th>dhi</th>\n",
       "    </tr>\n",
       "  </thead>\n",
       "  <tbody>\n",
       "    <tr>\n",
       "      <th>2018-01-01 00:00:00</th>\n",
       "      <td>2005-01-01 01:00:00</td>\n",
       "      <td>8.0</td>\n",
       "      <td>61</td>\n",
       "      <td>5.7</td>\n",
       "      <td>80</td>\n",
       "      <td>0</td>\n",
       "      <td>0</td>\n",
       "      <td>0</td>\n",
       "    </tr>\n",
       "    <tr>\n",
       "      <th>2018-01-01 01:00:00</th>\n",
       "      <td>2005-01-01 02:00:00</td>\n",
       "      <td>8.0</td>\n",
       "      <td>57</td>\n",
       "      <td>5.1</td>\n",
       "      <td>90</td>\n",
       "      <td>0</td>\n",
       "      <td>0</td>\n",
       "      <td>0</td>\n",
       "    </tr>\n",
       "    <tr>\n",
       "      <th>2018-01-01 02:00:00</th>\n",
       "      <td>2005-01-01 03:00:00</td>\n",
       "      <td>8.0</td>\n",
       "      <td>57</td>\n",
       "      <td>5.1</td>\n",
       "      <td>90</td>\n",
       "      <td>0</td>\n",
       "      <td>0</td>\n",
       "      <td>0</td>\n",
       "    </tr>\n",
       "    <tr>\n",
       "      <th>2018-01-01 03:00:00</th>\n",
       "      <td>2005-01-01 04:00:00</td>\n",
       "      <td>7.0</td>\n",
       "      <td>56</td>\n",
       "      <td>6.2</td>\n",
       "      <td>80</td>\n",
       "      <td>0</td>\n",
       "      <td>0</td>\n",
       "      <td>0</td>\n",
       "    </tr>\n",
       "    <tr>\n",
       "      <th>2018-01-01 04:00:00</th>\n",
       "      <td>2005-01-01 05:00:00</td>\n",
       "      <td>7.0</td>\n",
       "      <td>56</td>\n",
       "      <td>5.1</td>\n",
       "      <td>90</td>\n",
       "      <td>0</td>\n",
       "      <td>0</td>\n",
       "      <td>0</td>\n",
       "    </tr>\n",
       "  </tbody>\n",
       "</table>\n",
       "</div>"
      ],
      "text/plain": [
       "                               date_time  temp_db  rel_humidity  wind_speed  \\\n",
       "2018-01-01 00:00:00  2005-01-01 01:00:00      8.0            61         5.7   \n",
       "2018-01-01 01:00:00  2005-01-01 02:00:00      8.0            57         5.1   \n",
       "2018-01-01 02:00:00  2005-01-01 03:00:00      8.0            57         5.1   \n",
       "2018-01-01 03:00:00  2005-01-01 04:00:00      7.0            56         6.2   \n",
       "2018-01-01 04:00:00  2005-01-01 05:00:00      7.0            56         5.1   \n",
       "\n",
       "                     wind_direction  ghi  dni  dhi  \n",
       "2018-01-01 00:00:00              80    0    0    0  \n",
       "2018-01-01 01:00:00              90    0    0    0  \n",
       "2018-01-01 02:00:00              90    0    0    0  \n",
       "2018-01-01 03:00:00              80    0    0    0  \n",
       "2018-01-01 04:00:00              90    0    0    0  "
      ]
     },
     "execution_count": 35,
     "metadata": {},
     "output_type": "execute_result"
    }
   ],
   "source": [
    "weather = pd.read_csv(\"../data/timeseries/weather_year.csv\", parse_dates=True, index_col=0)\n",
    "weather.head()"
   ]
  },
  {
   "cell_type": "code",
   "execution_count": 36,
   "metadata": {},
   "outputs": [],
   "source": [
    "# normalize GHI\n",
    "ghi = weather['ghi'] / weather['ghi'].max()"
   ]
  },
  {
   "cell_type": "markdown",
   "metadata": {},
   "source": [
    "Step 4: Upload cost data"
   ]
  },
  {
   "cell_type": "code",
   "execution_count": 37,
   "metadata": {},
   "outputs": [
    {
     "data": {
      "text/html": [
       "<div>\n",
       "<style scoped>\n",
       "    .dataframe tbody tr th:only-of-type {\n",
       "        vertical-align: middle;\n",
       "    }\n",
       "\n",
       "    .dataframe tbody tr th {\n",
       "        vertical-align: top;\n",
       "    }\n",
       "\n",
       "    .dataframe thead th {\n",
       "        text-align: right;\n",
       "    }\n",
       "</style>\n",
       "<table border=\"1\" class=\"dataframe\">\n",
       "  <thead>\n",
       "    <tr style=\"text-align: right;\">\n",
       "      <th></th>\n",
       "      <th>Fixed O&amp;M</th>\n",
       "      <th>OCC</th>\n",
       "    </tr>\n",
       "    <tr>\n",
       "      <th>technology</th>\n",
       "      <th></th>\n",
       "      <th></th>\n",
       "    </tr>\n",
       "  </thead>\n",
       "  <tbody>\n",
       "    <tr>\n",
       "      <th>DistributedWind</th>\n",
       "      <td>35912.100000</td>\n",
       "      <td>5.678577e+06</td>\n",
       "    </tr>\n",
       "    <tr>\n",
       "      <th>ResPV</th>\n",
       "      <td>28108.825392</td>\n",
       "      <td>2.630889e+06</td>\n",
       "    </tr>\n",
       "    <tr>\n",
       "      <th>Residential Battery Storage</th>\n",
       "      <td>78943.789878</td>\n",
       "      <td>3.157752e+06</td>\n",
       "    </tr>\n",
       "  </tbody>\n",
       "</table>\n",
       "</div>"
      ],
      "text/plain": [
       "                                Fixed O&M           OCC\n",
       "technology                                             \n",
       "DistributedWind              35912.100000  5.678577e+06\n",
       "ResPV                        28108.825392  2.630889e+06\n",
       "Residential Battery Storage  78943.789878  3.157752e+06"
      ]
     },
     "execution_count": 37,
     "metadata": {},
     "output_type": "execute_result"
    }
   ],
   "source": [
    "costs = pd.read_csv(\"../data/technology_costs.csv\", index_col='technology')\n",
    "costs *= 1e3  # convert /kW to /MW\n",
    "costs"
   ]
  },
  {
   "cell_type": "markdown",
   "metadata": {},
   "source": [
    "Step 5: Add generators to network"
   ]
  },
  {
   "cell_type": "code",
   "execution_count": 38,
   "metadata": {},
   "outputs": [],
   "source": [
    "def annuity(r, n):\n",
    "    return r / (1 - 1 / (1 + r)**n)"
   ]
  },
  {
   "cell_type": "code",
   "execution_count": 39,
   "metadata": {},
   "outputs": [
    {
     "data": {
      "text/plain": [
       "0.09439292574325567"
      ]
     },
     "execution_count": 39,
     "metadata": {},
     "output_type": "execute_result"
    }
   ],
   "source": [
    "annuity_adj = annuity(0.07, 20)\n",
    "annuity_adj"
   ]
  },
  {
   "cell_type": "code",
   "execution_count": 40,
   "metadata": {},
   "outputs": [
    {
     "name": "stdout",
     "output_type": "stream",
     "text": [
      "ResPV\n",
      "276446.11698458303\n",
      "Residential Battery Storage\n",
      "377013.20171200635\n"
     ]
    }
   ],
   "source": [
    "for generator in costs.index:\n",
    "    if generator == 'DistributedWind':\n",
    "        pass\n",
    "    else:\n",
    "        print(generator)\n",
    "        annualized_cost = costs.at[generator, 'OCC']*annuity_adj + costs.at[generator,'Fixed O&M']\n",
    "        print(annualized_cost)\n",
    "        \n",
    "        if generator=='ResPV':\n",
    "            n.add(class_name='Generator',\n",
    "                    name=generator,\n",
    "                    bus=bus_name,\n",
    "                    carrier=\"solar\",\n",
    "                    capital_cost=annualized_cost,  # $/kW\n",
    "                    p_min_pu=ghi,\n",
    "                    p_max_pu=ghi,\n",
    "                    p_nom_extendable=True,\n",
    "                    )\n",
    "        elif generator=='Residential Battery Storage':\n",
    "            n.add(class_name=\"StorageUnit\",\n",
    "                    name=generator,\n",
    "                    bus=bus_name,\n",
    "                    carrier=\"battery\",\n",
    "                    capital_cost=annualized_cost,  # $/kW\n",
    "                    p_nom_extendable=True,\n",
    "                    max_hours=2.5,\n",
    "                    cyclic_state_of_charge=False,\n",
    "                    )\n",
    "        \n",
    "        "
   ]
  },
  {
   "cell_type": "code",
   "execution_count": 41,
   "metadata": {},
   "outputs": [],
   "source": [
    "from unyt import MWh, kWh"
   ]
  },
  {
   "cell_type": "code",
   "execution_count": 42,
   "metadata": {},
   "outputs": [
    {
     "data": {
      "text/plain": [
       "unyt_quantity(112.9, '1/MWh')"
      ]
     },
     "execution_count": 42,
     "metadata": {},
     "output_type": "execute_result"
    }
   ],
   "source": [
    "(0.1129/kWh).to(1/MWh)"
   ]
  },
  {
   "cell_type": "code",
   "execution_count": 43,
   "metadata": {},
   "outputs": [],
   "source": [
    "n.add(class_name='Generator',\n",
    "      name='Evergy Import',\n",
    "      bus=bus_name,\n",
    "      carrier='grid',\n",
    "      capital_cost=0,\n",
    "      marginal_cost=112.9,\n",
    "      p_nom_max=2,\n",
    "      p_nom_extendable=True)"
   ]
  },
  {
   "cell_type": "markdown",
   "metadata": {},
   "source": [
    "Step 6: Run the model"
   ]
  },
  {
   "cell_type": "code",
   "execution_count": 44,
   "metadata": {},
   "outputs": [
    {
     "name": "stderr",
     "output_type": "stream",
     "text": [
      "INFO:linopy.model: Solve problem using Highs solver\n",
      "INFO:linopy.io:Writing objective.\n",
      "Writing constraints.: 100%|\u001b[38;2;128;191;255m██████████\u001b[0m| 14/14 [00:00<00:00, 31.13it/s]\n",
      "Writing continuous variables.: 100%|\u001b[38;2;128;191;255m██████████\u001b[0m| 6/6 [00:00<00:00, 89.55it/s]\n",
      "INFO:linopy.io: Writing time: 0.56s\n",
      "INFO:linopy.solvers:Log file at C:\\Users\\sdotson\\AppData\\Local\\Temp\\highs.log\n",
      "INFO:linopy.constants: Optimization successful: \n",
      "Status: ok\n",
      "Termination condition: optimal\n",
      "Solution: 43803 primals, 105124 duals\n",
      "Objective: 4.67e+05\n",
      "Solver model: available\n",
      "Solver message: optimal\n",
      "\n",
      "INFO:pypsa.optimization.optimize:The shadow-prices of the constraints Generator-ext-p-lower, Generator-ext-p-upper, StorageUnit-ext-p_dispatch-lower, StorageUnit-ext-p_dispatch-upper, StorageUnit-ext-p_store-lower, StorageUnit-ext-p_store-upper, StorageUnit-ext-state_of_charge-lower, StorageUnit-ext-state_of_charge-upper, StorageUnit-energy_balance were not assigned to the network.\n"
     ]
    },
    {
     "data": {
      "text/plain": [
       "('ok', 'optimal')"
      ]
     },
     "execution_count": 44,
     "metadata": {},
     "output_type": "execute_result"
    }
   ],
   "source": [
    "n.optimize(solver_name='highs')"
   ]
  },
  {
   "cell_type": "code",
   "execution_count": 45,
   "metadata": {},
   "outputs": [
    {
     "data": {
      "text/html": [
       "<div>\n",
       "<style scoped>\n",
       "    .dataframe tbody tr th:only-of-type {\n",
       "        vertical-align: middle;\n",
       "    }\n",
       "\n",
       "    .dataframe tbody tr th {\n",
       "        vertical-align: top;\n",
       "    }\n",
       "\n",
       "    .dataframe thead th {\n",
       "        text-align: right;\n",
       "    }\n",
       "</style>\n",
       "<table border=\"1\" class=\"dataframe\">\n",
       "  <thead>\n",
       "    <tr style=\"text-align: right;\">\n",
       "      <th>attribute</th>\n",
       "      <th>bus</th>\n",
       "      <th>control</th>\n",
       "      <th>type</th>\n",
       "      <th>p_nom</th>\n",
       "      <th>p_nom_mod</th>\n",
       "      <th>p_nom_extendable</th>\n",
       "      <th>p_nom_min</th>\n",
       "      <th>p_nom_max</th>\n",
       "      <th>p_min_pu</th>\n",
       "      <th>p_max_pu</th>\n",
       "      <th>...</th>\n",
       "      <th>min_up_time</th>\n",
       "      <th>min_down_time</th>\n",
       "      <th>up_time_before</th>\n",
       "      <th>down_time_before</th>\n",
       "      <th>ramp_limit_up</th>\n",
       "      <th>ramp_limit_down</th>\n",
       "      <th>ramp_limit_start_up</th>\n",
       "      <th>ramp_limit_shut_down</th>\n",
       "      <th>weight</th>\n",
       "      <th>p_nom_opt</th>\n",
       "    </tr>\n",
       "    <tr>\n",
       "      <th>Generator</th>\n",
       "      <th></th>\n",
       "      <th></th>\n",
       "      <th></th>\n",
       "      <th></th>\n",
       "      <th></th>\n",
       "      <th></th>\n",
       "      <th></th>\n",
       "      <th></th>\n",
       "      <th></th>\n",
       "      <th></th>\n",
       "      <th></th>\n",
       "      <th></th>\n",
       "      <th></th>\n",
       "      <th></th>\n",
       "      <th></th>\n",
       "      <th></th>\n",
       "      <th></th>\n",
       "      <th></th>\n",
       "      <th></th>\n",
       "      <th></th>\n",
       "      <th></th>\n",
       "    </tr>\n",
       "  </thead>\n",
       "  <tbody>\n",
       "    <tr>\n",
       "      <th>ResPV</th>\n",
       "      <td>Residential</td>\n",
       "      <td>PQ</td>\n",
       "      <td></td>\n",
       "      <td>0.0</td>\n",
       "      <td>0.0</td>\n",
       "      <td>True</td>\n",
       "      <td>0.0</td>\n",
       "      <td>inf</td>\n",
       "      <td>0.0</td>\n",
       "      <td>1.0</td>\n",
       "      <td>...</td>\n",
       "      <td>0</td>\n",
       "      <td>0</td>\n",
       "      <td>1</td>\n",
       "      <td>0</td>\n",
       "      <td>NaN</td>\n",
       "      <td>NaN</td>\n",
       "      <td>1.0</td>\n",
       "      <td>1.0</td>\n",
       "      <td>1.0</td>\n",
       "      <td>-0.0</td>\n",
       "    </tr>\n",
       "    <tr>\n",
       "      <th>Evergy Import</th>\n",
       "      <td>Residential</td>\n",
       "      <td>PQ</td>\n",
       "      <td></td>\n",
       "      <td>0.0</td>\n",
       "      <td>0.0</td>\n",
       "      <td>True</td>\n",
       "      <td>0.0</td>\n",
       "      <td>2.0</td>\n",
       "      <td>0.0</td>\n",
       "      <td>1.0</td>\n",
       "      <td>...</td>\n",
       "      <td>0</td>\n",
       "      <td>0</td>\n",
       "      <td>1</td>\n",
       "      <td>0</td>\n",
       "      <td>NaN</td>\n",
       "      <td>NaN</td>\n",
       "      <td>1.0</td>\n",
       "      <td>1.0</td>\n",
       "      <td>1.0</td>\n",
       "      <td>2.0</td>\n",
       "    </tr>\n",
       "  </tbody>\n",
       "</table>\n",
       "<p>2 rows × 34 columns</p>\n",
       "</div>"
      ],
      "text/plain": [
       "attribute              bus control type  p_nom  p_nom_mod  p_nom_extendable  \\\n",
       "Generator                                                                     \n",
       "ResPV          Residential      PQ         0.0        0.0              True   \n",
       "Evergy Import  Residential      PQ         0.0        0.0              True   \n",
       "\n",
       "attribute      p_nom_min  p_nom_max  p_min_pu  p_max_pu  ...  min_up_time  \\\n",
       "Generator                                                ...                \n",
       "ResPV                0.0        inf       0.0       1.0  ...            0   \n",
       "Evergy Import        0.0        2.0       0.0       1.0  ...            0   \n",
       "\n",
       "attribute      min_down_time  up_time_before down_time_before  ramp_limit_up  \\\n",
       "Generator                                                                      \n",
       "ResPV                      0               1                0            NaN   \n",
       "Evergy Import              0               1                0            NaN   \n",
       "\n",
       "attribute      ramp_limit_down  ramp_limit_start_up  ramp_limit_shut_down  \\\n",
       "Generator                                                                   \n",
       "ResPV                      NaN                  1.0                   1.0   \n",
       "Evergy Import              NaN                  1.0                   1.0   \n",
       "\n",
       "attribute      weight  p_nom_opt  \n",
       "Generator                         \n",
       "ResPV             1.0       -0.0  \n",
       "Evergy Import     1.0        2.0  \n",
       "\n",
       "[2 rows x 34 columns]"
      ]
     },
     "execution_count": 45,
     "metadata": {},
     "output_type": "execute_result"
    }
   ],
   "source": [
    "n.generators"
   ]
  },
  {
   "cell_type": "code",
   "execution_count": 46,
   "metadata": {},
   "outputs": [
    {
     "data": {
      "text/html": [
       "<div>\n",
       "<style scoped>\n",
       "    .dataframe tbody tr th:only-of-type {\n",
       "        vertical-align: middle;\n",
       "    }\n",
       "\n",
       "    .dataframe tbody tr th {\n",
       "        vertical-align: top;\n",
       "    }\n",
       "\n",
       "    .dataframe thead th {\n",
       "        text-align: right;\n",
       "    }\n",
       "</style>\n",
       "<table border=\"1\" class=\"dataframe\">\n",
       "  <thead>\n",
       "    <tr style=\"text-align: right;\">\n",
       "      <th>attribute</th>\n",
       "      <th>bus</th>\n",
       "      <th>control</th>\n",
       "      <th>type</th>\n",
       "      <th>p_nom</th>\n",
       "      <th>p_nom_mod</th>\n",
       "      <th>p_nom_extendable</th>\n",
       "      <th>p_nom_min</th>\n",
       "      <th>p_nom_max</th>\n",
       "      <th>p_min_pu</th>\n",
       "      <th>p_max_pu</th>\n",
       "      <th>...</th>\n",
       "      <th>state_of_charge_initial_per_period</th>\n",
       "      <th>state_of_charge_set</th>\n",
       "      <th>cyclic_state_of_charge</th>\n",
       "      <th>cyclic_state_of_charge_per_period</th>\n",
       "      <th>max_hours</th>\n",
       "      <th>efficiency_store</th>\n",
       "      <th>efficiency_dispatch</th>\n",
       "      <th>standing_loss</th>\n",
       "      <th>inflow</th>\n",
       "      <th>p_nom_opt</th>\n",
       "    </tr>\n",
       "    <tr>\n",
       "      <th>StorageUnit</th>\n",
       "      <th></th>\n",
       "      <th></th>\n",
       "      <th></th>\n",
       "      <th></th>\n",
       "      <th></th>\n",
       "      <th></th>\n",
       "      <th></th>\n",
       "      <th></th>\n",
       "      <th></th>\n",
       "      <th></th>\n",
       "      <th></th>\n",
       "      <th></th>\n",
       "      <th></th>\n",
       "      <th></th>\n",
       "      <th></th>\n",
       "      <th></th>\n",
       "      <th></th>\n",
       "      <th></th>\n",
       "      <th></th>\n",
       "      <th></th>\n",
       "      <th></th>\n",
       "    </tr>\n",
       "  </thead>\n",
       "  <tbody>\n",
       "    <tr>\n",
       "      <th>Residential Battery Storage</th>\n",
       "      <td>Residential</td>\n",
       "      <td>PQ</td>\n",
       "      <td></td>\n",
       "      <td>0.0</td>\n",
       "      <td>0.0</td>\n",
       "      <td>True</td>\n",
       "      <td>0.0</td>\n",
       "      <td>inf</td>\n",
       "      <td>-1.0</td>\n",
       "      <td>1.0</td>\n",
       "      <td>...</td>\n",
       "      <td>False</td>\n",
       "      <td>NaN</td>\n",
       "      <td>False</td>\n",
       "      <td>True</td>\n",
       "      <td>2.5</td>\n",
       "      <td>1.0</td>\n",
       "      <td>1.0</td>\n",
       "      <td>0.0</td>\n",
       "      <td>0.0</td>\n",
       "      <td>-0.0</td>\n",
       "    </tr>\n",
       "  </tbody>\n",
       "</table>\n",
       "<p>1 rows × 30 columns</p>\n",
       "</div>"
      ],
      "text/plain": [
       "attribute                            bus control type  p_nom  p_nom_mod  \\\n",
       "StorageUnit                                                               \n",
       "Residential Battery Storage  Residential      PQ         0.0        0.0   \n",
       "\n",
       "attribute                    p_nom_extendable  p_nom_min  p_nom_max  p_min_pu  \\\n",
       "StorageUnit                                                                     \n",
       "Residential Battery Storage              True        0.0        inf      -1.0   \n",
       "\n",
       "attribute                    p_max_pu  ...  \\\n",
       "StorageUnit                            ...   \n",
       "Residential Battery Storage       1.0  ...   \n",
       "\n",
       "attribute                    state_of_charge_initial_per_period  \\\n",
       "StorageUnit                                                       \n",
       "Residential Battery Storage                               False   \n",
       "\n",
       "attribute                    state_of_charge_set  cyclic_state_of_charge  \\\n",
       "StorageUnit                                                                \n",
       "Residential Battery Storage                  NaN                   False   \n",
       "\n",
       "attribute                   cyclic_state_of_charge_per_period  max_hours  \\\n",
       "StorageUnit                                                                \n",
       "Residential Battery Storage                              True        2.5   \n",
       "\n",
       "attribute                    efficiency_store  efficiency_dispatch  \\\n",
       "StorageUnit                                                          \n",
       "Residential Battery Storage               1.0                  1.0   \n",
       "\n",
       "attribute                    standing_loss  inflow  p_nom_opt  \n",
       "StorageUnit                                                    \n",
       "Residential Battery Storage            0.0     0.0       -0.0  \n",
       "\n",
       "[1 rows x 30 columns]"
      ]
     },
     "execution_count": 46,
     "metadata": {},
     "output_type": "execute_result"
    }
   ],
   "source": [
    "n.storage_units"
   ]
  },
  {
   "cell_type": "code",
   "execution_count": 47,
   "metadata": {},
   "outputs": [
    {
     "name": "stderr",
     "output_type": "stream",
     "text": [
      "c:\\Users\\sdotson\\AppData\\Local\\miniforge3\\envs\\kansas-city\\lib\\site-packages\\pypsa\\statistics.py:308: FutureWarning:\n",
      "\n",
      "The default dtype for empty Series will be 'object' instead of 'float64' in a future version. Specify a dtype explicitly to silence this warning.\n",
      "\n"
     ]
    },
    {
     "data": {
      "text/html": [
       "<div>\n",
       "<style scoped>\n",
       "    .dataframe tbody tr th:only-of-type {\n",
       "        vertical-align: middle;\n",
       "    }\n",
       "\n",
       "    .dataframe tbody tr th {\n",
       "        vertical-align: top;\n",
       "    }\n",
       "\n",
       "    .dataframe thead th {\n",
       "        text-align: right;\n",
       "    }\n",
       "</style>\n",
       "<table border=\"1\" class=\"dataframe\">\n",
       "  <thead>\n",
       "    <tr style=\"text-align: right;\">\n",
       "      <th></th>\n",
       "      <th></th>\n",
       "      <th>Optimal Capacity</th>\n",
       "      <th>Installed Capacity</th>\n",
       "      <th>Supply</th>\n",
       "      <th>Withdrawal</th>\n",
       "      <th>Dispatch</th>\n",
       "      <th>Transmission</th>\n",
       "      <th>Capacity Factor</th>\n",
       "      <th>Curtailment</th>\n",
       "      <th>Capital Expenditure</th>\n",
       "      <th>Operational Expenditure</th>\n",
       "      <th>Revenue</th>\n",
       "      <th>Market Value</th>\n",
       "    </tr>\n",
       "  </thead>\n",
       "  <tbody>\n",
       "    <tr>\n",
       "      <th>Generator</th>\n",
       "      <th>grid</th>\n",
       "      <td>2.0</td>\n",
       "      <td>0.0</td>\n",
       "      <td>4135.96535</td>\n",
       "      <td>0.00000</td>\n",
       "      <td>4135.96535</td>\n",
       "      <td>0.0</td>\n",
       "      <td>0.236071</td>\n",
       "      <td>0.0</td>\n",
       "      <td>0.0</td>\n",
       "      <td>466950.487985</td>\n",
       "      <td>466950.487985</td>\n",
       "      <td>112.9</td>\n",
       "    </tr>\n",
       "    <tr>\n",
       "      <th>Load</th>\n",
       "      <th>-</th>\n",
       "      <td>0.0</td>\n",
       "      <td>0.0</td>\n",
       "      <td>0.00000</td>\n",
       "      <td>4135.96535</td>\n",
       "      <td>-4135.96535</td>\n",
       "      <td>0.0</td>\n",
       "      <td>NaN</td>\n",
       "      <td>0.0</td>\n",
       "      <td>0.0</td>\n",
       "      <td>0.000000</td>\n",
       "      <td>-466950.487985</td>\n",
       "      <td>NaN</td>\n",
       "    </tr>\n",
       "  </tbody>\n",
       "</table>\n",
       "</div>"
      ],
      "text/plain": [
       "                Optimal Capacity  Installed Capacity      Supply  Withdrawal  \\\n",
       "Generator grid               2.0                 0.0  4135.96535     0.00000   \n",
       "Load      -                  0.0                 0.0     0.00000  4135.96535   \n",
       "\n",
       "                  Dispatch  Transmission  Capacity Factor  Curtailment  \\\n",
       "Generator grid  4135.96535           0.0         0.236071          0.0   \n",
       "Load      -    -4135.96535           0.0              NaN          0.0   \n",
       "\n",
       "                Capital Expenditure  Operational Expenditure        Revenue  \\\n",
       "Generator grid                  0.0            466950.487985  466950.487985   \n",
       "Load      -                     0.0                 0.000000 -466950.487985   \n",
       "\n",
       "                Market Value  \n",
       "Generator grid         112.9  \n",
       "Load      -              NaN  "
      ]
     },
     "execution_count": 47,
     "metadata": {},
     "output_type": "execute_result"
    }
   ],
   "source": [
    "n.statistics()"
   ]
  },
  {
   "cell_type": "code",
   "execution_count": 48,
   "metadata": {},
   "outputs": [
    {
     "data": {
      "text/plain": [
       "Load\n",
       "Load Residential    1.430806\n",
       "dtype: float64"
      ]
     },
     "execution_count": 48,
     "metadata": {},
     "output_type": "execute_result"
    }
   ],
   "source": [
    "n.loads_t.p.max()"
   ]
  },
  {
   "cell_type": "code",
   "execution_count": 49,
   "metadata": {},
   "outputs": [
    {
     "data": {
      "text/html": [
       "<div>\n",
       "<style scoped>\n",
       "    .dataframe tbody tr th:only-of-type {\n",
       "        vertical-align: middle;\n",
       "    }\n",
       "\n",
       "    .dataframe tbody tr th {\n",
       "        vertical-align: top;\n",
       "    }\n",
       "\n",
       "    .dataframe thead th {\n",
       "        text-align: right;\n",
       "    }\n",
       "</style>\n",
       "<table border=\"1\" class=\"dataframe\">\n",
       "  <thead>\n",
       "    <tr style=\"text-align: right;\">\n",
       "      <th>StorageUnit</th>\n",
       "      <th>Residential Battery Storage</th>\n",
       "    </tr>\n",
       "    <tr>\n",
       "      <th>snapshot</th>\n",
       "      <th></th>\n",
       "    </tr>\n",
       "  </thead>\n",
       "  <tbody>\n",
       "    <tr>\n",
       "      <th>2018-01-01 00:00:00</th>\n",
       "      <td>-0.0</td>\n",
       "    </tr>\n",
       "    <tr>\n",
       "      <th>2018-01-01 01:00:00</th>\n",
       "      <td>-0.0</td>\n",
       "    </tr>\n",
       "    <tr>\n",
       "      <th>2018-01-01 02:00:00</th>\n",
       "      <td>-0.0</td>\n",
       "    </tr>\n",
       "    <tr>\n",
       "      <th>2018-01-01 03:00:00</th>\n",
       "      <td>-0.0</td>\n",
       "    </tr>\n",
       "    <tr>\n",
       "      <th>2018-01-01 04:00:00</th>\n",
       "      <td>-0.0</td>\n",
       "    </tr>\n",
       "    <tr>\n",
       "      <th>...</th>\n",
       "      <td>...</td>\n",
       "    </tr>\n",
       "    <tr>\n",
       "      <th>2018-12-31 19:00:00</th>\n",
       "      <td>-0.0</td>\n",
       "    </tr>\n",
       "    <tr>\n",
       "      <th>2018-12-31 20:00:00</th>\n",
       "      <td>-0.0</td>\n",
       "    </tr>\n",
       "    <tr>\n",
       "      <th>2018-12-31 21:00:00</th>\n",
       "      <td>-0.0</td>\n",
       "    </tr>\n",
       "    <tr>\n",
       "      <th>2018-12-31 22:00:00</th>\n",
       "      <td>-0.0</td>\n",
       "    </tr>\n",
       "    <tr>\n",
       "      <th>2018-12-31 23:00:00</th>\n",
       "      <td>-0.0</td>\n",
       "    </tr>\n",
       "  </tbody>\n",
       "</table>\n",
       "<p>8760 rows × 1 columns</p>\n",
       "</div>"
      ],
      "text/plain": [
       "StorageUnit          Residential Battery Storage\n",
       "snapshot                                        \n",
       "2018-01-01 00:00:00                         -0.0\n",
       "2018-01-01 01:00:00                         -0.0\n",
       "2018-01-01 02:00:00                         -0.0\n",
       "2018-01-01 03:00:00                         -0.0\n",
       "2018-01-01 04:00:00                         -0.0\n",
       "...                                          ...\n",
       "2018-12-31 19:00:00                         -0.0\n",
       "2018-12-31 20:00:00                         -0.0\n",
       "2018-12-31 21:00:00                         -0.0\n",
       "2018-12-31 22:00:00                         -0.0\n",
       "2018-12-31 23:00:00                         -0.0\n",
       "\n",
       "[8760 rows x 1 columns]"
      ]
     },
     "execution_count": 49,
     "metadata": {},
     "output_type": "execute_result"
    }
   ],
   "source": [
    "n.storage_units_t.p_store"
   ]
  },
  {
   "cell_type": "code",
   "execution_count": 50,
   "metadata": {},
   "outputs": [],
   "source": [
    "TECH_ORDER = ['grid',\n",
    "              'solar',\n",
    "              'battery'\n",
    "              ]"
   ]
  },
  {
   "cell_type": "code",
   "execution_count": 51,
   "metadata": {},
   "outputs": [],
   "source": [
    "def power_by_carrier(n):\n",
    "    p_by_carrier = n.generators_t.p.T.groupby(\n",
    "        n.generators.carrier).sum().T \n",
    "    \n",
    "    if not n.storage_units.empty:\n",
    "        sto = n.storage_units_t.p.T.groupby(\n",
    "            n.storage_units.carrier).sum().T\n",
    "        p_by_carrier = pd.concat([p_by_carrier, sto], axis=1)\n",
    "        \n",
    "    last_cols = [col for col in p_by_carrier.columns if col not in TECH_ORDER]\n",
    "\n",
    "    p_by_carrier = p_by_carrier[TECH_ORDER+last_cols]\n",
    "\n",
    "    return p_by_carrier"
   ]
  },
  {
   "cell_type": "code",
   "execution_count": 52,
   "metadata": {},
   "outputs": [],
   "source": [
    "def plot_dispatch(n, year=2025, month=7):\n",
    "\n",
    "    time = (year, f'{year}-0{month}')\n",
    "    p_by_carrier = power_by_carrier(n).div(1e3)\n",
    "\n",
    "    # y-limits\n",
    "    y_min = -n.storage_units_t.p_store.max().max() / 1e3\n",
    "    y_max = n.loads_t.p_set.sum(axis=1).max() / 1e3\n",
    "    margin = 0.1\n",
    "    y_low = (1 + margin) * y_min\n",
    "    y_high = (1 + margin) * y_max\n",
    "\n",
    "    fig, ax = plt.subplots(figsize=(12, 6))\n",
    "\n",
    "    color = p_by_carrier.columns.map(n.carriers.color)\n",
    "\n",
    "    display(p_by_carrier)\n",
    "\n",
    "    p_by_carrier.where(p_by_carrier > 0).loc[time].plot.area(\n",
    "        ax=ax,\n",
    "        linewidth=0,\n",
    "        color=color,\n",
    "        ylim=(y_low - margin, y_high + margin)\n",
    "    )\n",
    "\n",
    "    charge = p_by_carrier.where(\n",
    "        p_by_carrier < 0).dropna(\n",
    "        how=\"all\",\n",
    "        axis=1).loc[time]\n",
    "\n",
    "    if not charge.empty:\n",
    "        charge.plot.area(\n",
    "            ax=ax,\n",
    "            linewidth=0,\n",
    "            color=charge.columns.map(n.carriers.color),\n",
    "            ylim=(y_low - margin, y_high + margin)\n",
    "        )\n",
    "\n",
    "    n.loads_t.p_set.sum(axis=1).loc[time].div(1e3).plot(ax=ax, c=\"k\")\n",
    "\n",
    "    ax.legend(loc=(1.05, 0))\n",
    "    ax.set_ylabel(\"GW\", fontsize=16)\n",
    "    plt.tight_layout()\n",
    "\n",
    "    return fig, ax"
   ]
  },
  {
   "cell_type": "code",
   "execution_count": 53,
   "metadata": {},
   "outputs": [
    {
     "data": {
      "text/plain": [
       "<Axes: xlabel='snapshot'>"
      ]
     },
     "execution_count": 53,
     "metadata": {},
     "output_type": "execute_result"
    },
    {
     "data": {
      "image/png": "[encoded data removed]",
      "text/plain": [
       "<Figure size 640x480 with 1 Axes>"
      ]
     },
     "metadata": {},
     "output_type": "display_data"
    }
   ],
   "source": [
    "fig, ax = plt.subplots()\n",
    "time = '2018-07'\n",
    "n.generators_t.p.loc[time].plot(ax=ax, legend=False)\n",
    "n.storage_units_t.p_store.loc[time].plot(ax=ax, legend=False)\n"
   ]
  },
  {
   "cell_type": "code",
   "execution_count": null,
   "metadata": {},
   "outputs": [],
   "source": []
  }
 ],
 "metadata": {
  "kernelspec": {
   "display_name": "kansas-city",
   "language": "python",
   "name": "python3"
  },
  "language_info": {
   "codemirror_mode": {
    "name": "ipython",
    "version": 3
   },
   "file_extension": ".py",
   "mimetype": "text/x-python",
   "name": "python",
   "nbconvert_exporter": "python",
   "pygments_lexer": "ipython3",
   "version": "3.10.13"
  }
 },
 "nbformat": 4,
 "nbformat_minor": 2
}
